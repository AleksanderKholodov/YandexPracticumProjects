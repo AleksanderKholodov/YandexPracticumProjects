{
 "cells": [
  {
   "cell_type": "markdown",
   "metadata": {},
   "source": [
    "# Определение наиболее выгодного региона нефтедобычи"
   ]
  },
  {
   "cell_type": "markdown",
   "metadata": {},
   "source": [
    "## Задача \n",
    "Заказчиком является нефтедобывающая компания. \n",
    "\n",
    "Необходимо подготовить модель машинного обучения, которая поможет определить регион, где добыча принесет наибольшую прибыль. \n",
    "\n",
    "Также необходимо оценить возможную прибыль и риски.\n",
    "\n",
    "## Данные\n",
    "\n",
    "В распоряжении имеем пробы нефти в трёх регионах: в каждом 10 000 месторождений, где измерили качество нефти и объём её запасов. \n",
    "\n",
    "Данные находятся в трех файлах:\n",
    "* geo_data_0.csv\n",
    "* geo_data_1.csv\n",
    "* geo_data_2.csv\n",
    "\n",
    "## Описание признаков\n",
    "\n",
    "* **id** — уникальный идентификатор скважины;\n",
    "* **f0, f1, f2** — три признака точек (признаки значимы);\n",
    "* **product** — объём запасов в скважине (тыс. баррелей).\n",
    "\n",
    "## Условия и ограничения\n",
    "* необходимо использовать линейную регрессию\n",
    "* при разведке региона исследуют 500 точек, из которых с помощью ML отбирают 200 лучших для разработки\n",
    "* бюджет на разработку - 10 млрд. руб\n",
    "* стоимость 1 барреля 450 руб\n",
    "* вероятность убытков не должна превышать 2,5%"
   ]
  },
  {
   "cell_type": "markdown",
   "metadata": {},
   "source": [
    "## План работы\n",
    "0. Импорт библиотек\n",
    "\n",
    "1. Подготовка данных\n",
    "\n",
    "    1.1. Открыть и изучить данные\n",
    "    \n",
    "    1.2. Провести предобработку данных. Убрать или заменить пропуски, привести данные к нужным типам. Проверить на дубликаты. \n",
    "    \n",
    "2. Обучение модели\n",
    "\n",
    "    2.1. Разделение на обучающую и тестовую выборки\n",
    "    \n",
    "    2.2. Обучение с кроссвалидацией и предсказание\n",
    "    \n",
    "3. Расчет прибыли и выбор региона\n",
    "\n",
    "    3.1. Подготовка к расчету прибыли и рисков\n",
    "    \n",
    "    3.2. Расчет прибыли и рисков\n",
    "    \n",
    "4. Вывод\n",
    "\n",
    "\n",
    "    "
   ]
  },
  {
   "cell_type": "markdown",
   "metadata": {},
   "source": [
    "## 0. Импорт библиотек"
   ]
  },
  {
   "cell_type": "code",
   "execution_count": 1,
   "metadata": {},
   "outputs": [],
   "source": [
    "import pandas as pd\n",
    "import numpy as np\n",
    "import matplotlib.pyplot as plt\n",
    "import seaborn as sns\n",
    "from sklearn.linear_model import Ridge\n",
    "from sklearn.model_selection import train_test_split\n",
    "from sklearn.metrics import mean_squared_error\n",
    "from sklearn.model_selection import GridSearchCV\n",
    "from scipy import stats as st\n"
   ]
  },
  {
   "cell_type": "markdown",
   "metadata": {},
   "source": [
    "## Загрузка и подготовка данных"
   ]
  },
  {
   "cell_type": "code",
   "execution_count": 2,
   "metadata": {},
   "outputs": [
    {
     "name": "stdout",
     "output_type": "stream",
     "text": [
      "Регион 0 \n",
      "\n",
      "<class 'pandas.core.frame.DataFrame'>\n",
      "RangeIndex: 100000 entries, 0 to 99999\n",
      "Data columns (total 5 columns):\n",
      " #   Column   Non-Null Count   Dtype  \n",
      "---  ------   --------------   -----  \n",
      " 0   id       100000 non-null  object \n",
      " 1   f0       100000 non-null  float64\n",
      " 2   f1       100000 non-null  float64\n",
      " 3   f2       100000 non-null  float64\n",
      " 4   product  100000 non-null  float64\n",
      "dtypes: float64(4), object(1)\n",
      "memory usage: 3.8+ MB\n",
      "\n",
      "                  f0             f1             f2        product\n",
      "count  100000.000000  100000.000000  100000.000000  100000.000000\n",
      "mean        0.500419       0.250143       2.502647      92.500000\n",
      "std         0.871832       0.504433       3.248248      44.288691\n",
      "min        -1.408605      -0.848218     -12.088328       0.000000\n",
      "25%        -0.072580      -0.200881       0.287748      56.497507\n",
      "50%         0.502360       0.250252       2.515969      91.849972\n",
      "75%         1.073581       0.700646       4.715088     128.564089\n",
      "max         2.362331       1.343769      16.003790     185.364347 \n",
      "\n",
      "      id        f0        f1        f2     product\n",
      "0  txEyH  0.705745 -0.497823  1.221170  105.280062\n",
      "1  2acmU  1.334711 -0.340164  4.365080   73.037750\n",
      "2  409Wp  1.022732  0.151990  1.419926   85.265647\n",
      "3  iJLyR -0.032172  0.139033  2.978566  168.620776\n",
      "4  Xdl7t  1.988431  0.155413  4.751769  154.036647 \n",
      "\n",
      "Количество полных дубликатов: 0\n",
      "Количество дубликатов в id: 10\n",
      "------------------- \n",
      "\n"
     ]
    },
    {
     "data": {
      "image/png": "[encoded data removed]",
      "text/plain": [
       "<Figure size 576x288 with 2 Axes>"
      ]
     },
     "metadata": {
      "needs_background": "light"
     },
     "output_type": "display_data"
    },
    {
     "name": "stdout",
     "output_type": "stream",
     "text": [
      "Регион 1 \n",
      "\n",
      "<class 'pandas.core.frame.DataFrame'>\n",
      "RangeIndex: 100000 entries, 0 to 99999\n",
      "Data columns (total 5 columns):\n",
      " #   Column   Non-Null Count   Dtype  \n",
      "---  ------   --------------   -----  \n",
      " 0   id       100000 non-null  object \n",
      " 1   f0       100000 non-null  float64\n",
      " 2   f1       100000 non-null  float64\n",
      " 3   f2       100000 non-null  float64\n",
      " 4   product  100000 non-null  float64\n",
      "dtypes: float64(4), object(1)\n",
      "memory usage: 3.8+ MB\n",
      "\n",
      "                  f0             f1             f2        product\n",
      "count  100000.000000  100000.000000  100000.000000  100000.000000\n",
      "mean        1.141296      -4.796579       2.494541      68.825000\n",
      "std         8.965932       5.119872       1.703572      45.944423\n",
      "min       -31.609576     -26.358598      -0.018144       0.000000\n",
      "25%        -6.298551      -8.267985       1.000021      26.953261\n",
      "50%         1.153055      -4.813172       2.011479      57.085625\n",
      "75%         8.621015      -1.332816       3.999904     107.813044\n",
      "max        29.421755      18.734063       5.019721     137.945408 \n",
      "\n",
      "      id         f0         f1        f2     product\n",
      "0  kBEdx -15.001348  -8.276000 -0.005876    3.179103\n",
      "1  62mP7  14.272088  -3.475083  0.999183   26.953261\n",
      "2  vyE1P   6.263187  -5.948386  5.001160  134.766305\n",
      "3  KcrkZ -13.081196 -11.506057  4.999415  137.945408\n",
      "4  AHL4O  12.702195  -8.147433  5.004363  134.766305 \n",
      "\n",
      "Количество полных дубликатов: 0\n",
      "Количество дубликатов в id: 4\n",
      "------------------- \n",
      "\n"
     ]
    },
    {
     "data": {
      "image/png": "[encoded data removed]",
      "text/plain": [
       "<Figure size 576x288 with 2 Axes>"
      ]
     },
     "metadata": {
      "needs_background": "light"
     },
     "output_type": "display_data"
    },
    {
     "name": "stdout",
     "output_type": "stream",
     "text": [
      "Регион 2 \n",
      "\n",
      "<class 'pandas.core.frame.DataFrame'>\n",
      "RangeIndex: 100000 entries, 0 to 99999\n",
      "Data columns (total 5 columns):\n",
      " #   Column   Non-Null Count   Dtype  \n",
      "---  ------   --------------   -----  \n",
      " 0   id       100000 non-null  object \n",
      " 1   f0       100000 non-null  float64\n",
      " 2   f1       100000 non-null  float64\n",
      " 3   f2       100000 non-null  float64\n",
      " 4   product  100000 non-null  float64\n",
      "dtypes: float64(4), object(1)\n",
      "memory usage: 3.8+ MB\n",
      "\n",
      "                  f0             f1             f2        product\n",
      "count  100000.000000  100000.000000  100000.000000  100000.000000\n",
      "mean        0.002023      -0.002081       2.495128      95.000000\n",
      "std         1.732045       1.730417       3.473445      44.749921\n",
      "min        -8.760004      -7.084020     -11.970335       0.000000\n",
      "25%        -1.162288      -1.174820       0.130359      59.450441\n",
      "50%         0.009424      -0.009482       2.484236      94.925613\n",
      "75%         1.158535       1.163678       4.858794     130.595027\n",
      "max         7.238262       7.844801      16.739402     190.029838 \n",
      "\n",
      "      id        f0        f1        f2     product\n",
      "0  fwXo0 -1.146987  0.963328 -0.828965   27.758673\n",
      "1  WJtFt  0.262778  0.269839 -2.530187   56.069697\n",
      "2  ovLUW  0.194587  0.289035 -5.586433   62.871910\n",
      "3  q6cA6  2.236060 -0.553760  0.930038  114.572842\n",
      "4  WPMUX -0.515993  1.716266  5.899011  149.600746 \n",
      "\n",
      "Количество полных дубликатов: 0\n",
      "Количество дубликатов в id: 4\n",
      "------------------- \n",
      "\n"
     ]
    },
    {
     "data": {
      "image/png": "[encoded data removed]",
      "text/plain": [
       "<Figure size 576x288 with 2 Axes>"
      ]
     },
     "metadata": {
      "needs_background": "light"
     },
     "output_type": "display_data"
    }
   ],
   "source": [
    "df=[]\n",
    "df.append(pd.read_csv('datasets/geo_data_0.csv'))\n",
    "df.append(pd.read_csv('datasets/geo_data_1.csv'))\n",
    "df.append(pd.read_csv('datasets/geo_data_2.csv'))\n",
    "\n",
    "for i in range(len(df)):\n",
    "    print('Регион', i, '\\n')\n",
    "    df[i].info()\n",
    "    print()\n",
    "    print(df[i].describe(), '\\n')\n",
    "    print(df[i].head(), '\\n')\n",
    "    print('Количество полных дубликатов:', df[i].duplicated().sum())\n",
    "    print('Количество дубликатов в id:', df[i]['id'].duplicated().sum())\n",
    "    print('-------------------', '\\n')\n",
    "    \n",
    "    plt.figure(figsize=(8,4))\n",
    "    ax = plt.axes()\n",
    "    sns.heatmap(\n",
    "        df[i][['id', 'f0', 'f1', 'f2']].corr(),        \n",
    "        annot=True, # рисует значения внутри ячеек\n",
    "        vmin=-1, vmax=1,  # указывает начало цветовых кодов от -1 до 1.\n",
    "        ax = ax);\n",
    "    ax.set_title('Матрица корреляции признаков \\n', fontsize=20)\n",
    "    plt.show()\n"
   ]
  },
  {
   "cell_type": "markdown",
   "metadata": {},
   "source": [
    "- Данные по регионам содержат по 10000 записей в каждом\n",
    "- Пропуски отсутствуют\n",
    "- Типы данных преобразовывать нет необходимости.\n",
    "- Полных дубликатов нет, но присутствуют дубликаты в id (идентификатор скважины). Т.е. по одной и той же скважине имеем разные данные. \n",
    "- корреляции между признаками, не наблюдается ни в одном регионе - что хорошо, т.к. мы будем использовать линейную регрессию.  \n",
    "\n",
    "Обработаем эти дубликаты."
   ]
  },
  {
   "cell_type": "markdown",
   "metadata": {},
   "source": [
    "### Обработка дубликатов"
   ]
  },
  {
   "cell_type": "markdown",
   "metadata": {},
   "source": [
    "Посмотрим на дубликаты"
   ]
  },
  {
   "cell_type": "code",
   "execution_count": 3,
   "metadata": {},
   "outputs": [
    {
     "name": "stdout",
     "output_type": "stream",
     "text": [
      "Регион 0\n",
      "Дубликаты в id:\n",
      "          id        f0        f1         f2     product\n",
      "66136  74z30  1.084962 -0.312358   6.990771  127.643327\n",
      "64022  74z30  0.741456  0.459229   5.153109  140.771492\n",
      "51970  A5aEY -0.180335  0.935548  -2.094773   33.020205\n",
      "3389   A5aEY -0.039949  0.156872   0.209861   89.249364\n",
      "69163  AGS9W -0.933795  0.116194  -3.655896   19.230453\n",
      "42529  AGS9W  1.454747 -0.479651   0.683380  126.370504\n",
      "931    HZww2  0.755284  0.368511   1.863211   30.681774\n",
      "7530   HZww2  1.061194 -0.373969  10.430210  158.828695\n",
      "63593  QcMuo  0.635635 -0.473422   0.862670   64.578675\n",
      "1949   QcMuo  0.506563 -0.323775  -2.215583   75.496502\n",
      "75715  Tdehs  0.112079  0.430296   3.218993   60.964018\n",
      "21426  Tdehs  0.829407  0.298807  -0.049563   96.035308\n",
      "92341  TtcGQ  0.110711  1.022689   0.911381  101.318008\n",
      "60140  TtcGQ  0.569276 -0.104876   6.440215   85.350186\n",
      "89582  bsk9y  0.398908 -0.400253  10.122376  163.433078\n",
      "97785  bsk9y  0.378429  0.005837   0.160827  160.637302\n",
      "41724  bxg6G -0.823752  0.546319   3.630479   93.007798\n",
      "1364   bxg6G  0.411645  0.856830  -3.653440   73.604260\n",
      "16633  fiKDv  0.157341  1.028359   5.585586   95.817889\n",
      "90815  fiKDv  0.049883  0.841313   6.394613  137.346586\n",
      "Процент дубликатов в данных 2.00%\n",
      "-------------------\n",
      "\n",
      "Регион 1\n",
      "Дубликаты в id:\n",
      "          id         f0         f1        f2     product\n",
      "5849   5ltQ6  -3.435401 -12.296043  1.999796   57.085625\n",
      "84461  5ltQ6  18.213839   2.191999  3.993869  107.813044\n",
      "1305   LHZR0  11.170835  -1.945066  3.002872   80.859783\n",
      "41906  LHZR0  -8.989672  -4.286607  2.009139   57.085625\n",
      "2721   bfPNe  -9.494442  -5.463692  4.006042  110.992147\n",
      "82178  bfPNe  -6.202799  -4.820045  2.995107   84.038886\n",
      "47591  wt4Uk  -9.091098  -8.109279 -0.002314    3.179103\n",
      "82873  wt4Uk  10.259972  -9.376355  4.994297  134.766305\n",
      "Процент дубликатов в данных 0.80%\n",
      "-------------------\n",
      "\n",
      "Регион 2\n",
      "Дубликаты в id:\n",
      "          id        f0        f1        f2     product\n",
      "45404  KUPhW  0.231846 -1.698941  4.990775   11.716299\n",
      "55967  KUPhW  1.211150  3.176408  5.543540  132.831802\n",
      "11449  VF7Jo  2.122656 -0.858275  5.746001  181.716817\n",
      "49564  VF7Jo -0.883115  0.560537  0.723601  136.233420\n",
      "44378  Vcm5J -1.229484 -2.439204  1.222909  137.968290\n",
      "95090  Vcm5J  2.587702  1.986875  2.482245   92.327572\n",
      "28039  xCHr8  1.633027  0.368135 -2.378367    6.120525\n",
      "43233  xCHr8 -0.847066  2.101796  5.597130  184.388641\n",
      "Процент дубликатов в данных 0.80%\n",
      "-------------------\n",
      "\n"
     ]
    }
   ],
   "source": [
    "for i in range(len(df)):\n",
    "    duples = df[i][df[i]['id'].duplicated(keep=False)].sort_values('id')\n",
    "    print('Регион ' + str(i))\n",
    "    print('Дубликаты в id:')\n",
    "    print(duples)\n",
    "    print(f'Процент дубликатов в данных {len(duples)/len(df[i])*100:.2%}')\n",
    "    print('-------------------')\n",
    "    print()\n"
   ]
  },
  {
   "cell_type": "markdown",
   "metadata": {},
   "source": [
    "Цифры совершено различные - невозможно определить какая строка верная, вероятнее всего дубликаты по id - ошибка. \n",
    "\n",
    "Дубликатов меньше 2% - удалим их."
   ]
  },
  {
   "cell_type": "code",
   "execution_count": 4,
   "metadata": {
    "scrolled": true
   },
   "outputs": [
    {
     "name": "stdout",
     "output_type": "stream",
     "text": [
      "Регион 0 : количество дубликатов в id: 0\n",
      "Регион 1 : количество дубликатов в id: 0\n",
      "Регион 2 : количество дубликатов в id: 0\n"
     ]
    }
   ],
   "source": [
    "for i in range(len(df)):\n",
    "    df[i].drop_duplicates(subset=['id'], keep='first', inplace=True, ignore_index=True)\n",
    "    print('Регион', i, ': количество дубликатов в id:', df[i]['id'].duplicated().sum())\n"
   ]
  },
  {
   "cell_type": "markdown",
   "metadata": {},
   "source": [
    "## Обучение и проверка модели"
   ]
  },
  {
   "cell_type": "markdown",
   "metadata": {},
   "source": [
    "### Разбиение данных на обучающую и тестовую"
   ]
  },
  {
   "cell_type": "code",
   "execution_count": 5,
   "metadata": {},
   "outputs": [
    {
     "name": "stdout",
     "output_type": "stream",
     "text": [
      "Регион 0\n",
      "shape X_train (74992, 3)\n",
      "shape y_train (74992,)\n",
      "shape X_test (24998, 3)\n",
      "shape y_test (24998,) \n",
      "\n",
      "Регион 1\n",
      "shape X_train (74997, 3)\n",
      "shape y_train (74997,)\n",
      "shape X_test (24999, 3)\n",
      "shape y_test (24999,) \n",
      "\n",
      "Регион 2\n",
      "shape X_train (74997, 3)\n",
      "shape y_train (74997,)\n",
      "shape X_test (24999, 3)\n",
      "shape y_test (24999,) \n",
      "\n"
     ]
    }
   ],
   "source": [
    "X_train = []\n",
    "y_train = []\n",
    "X_test = []\n",
    "y_test = []\n",
    "\n",
    "for i in range(len(df)):\n",
    "    X = df[i].drop(['id','product'], axis=1)\n",
    "    y = df[i]['product']\n",
    "    X_train.append(None)\n",
    "    y_train.append(None)\n",
    "    X_test.append(None)\n",
    "    y_test.append(None)\n",
    "\n",
    "    # выделяем из данных обучающую и тестовую выборки в пропорции 75%/25%\n",
    "    X_train[i], X_test[i], y_train[i], y_test[i] = train_test_split(\n",
    "        X, y, test_size=0.25, random_state=12345)\n",
    "    print(f'Регион {i}')\n",
    "    print('shape X_train', X_train[i].shape)\n",
    "    print('shape y_train', y_train[i].shape)\n",
    "    print('shape X_test', X_test[i].shape)\n",
    "    print('shape y_test', y_test[i].shape, '\\n')"
   ]
  },
  {
   "cell_type": "markdown",
   "metadata": {},
   "source": [
    "### Обучение модели с кроссвалидацией и выполнение предсказаний на тестовой выборке."
   ]
  },
  {
   "cell_type": "code",
   "execution_count": 6,
   "metadata": {
    "scrolled": true
   },
   "outputs": [
    {
     "name": "stdout",
     "output_type": "stream",
     "text": [
      "Регион 0\n",
      "Cредний запас предсказанного сырья 92.79\n",
      "RMSE модели линейной регрессии на кроссвалидации: 37.64\n",
      "RMSE модели линейной регрессии на тестовой выборке: 37.85\n",
      "Параметры модели: Ridge(alpha=4.9, random_state=42) \n",
      "\n",
      "Регион 1\n",
      "Cредний запас предсказанного сырья 69.18\n",
      "RMSE модели линейной регрессии на кроссвалидации: 0.89\n",
      "RMSE модели линейной регрессии на тестовой выборке: 0.89\n",
      "Параметры модели: Ridge(alpha=0.1, random_state=42) \n",
      "\n",
      "Регион 2\n",
      "Cредний запас предсказанного сырья 94.87\n",
      "RMSE модели линейной регрессии на кроссвалидации: 40.05\n",
      "RMSE модели линейной регрессии на тестовой выборке: 40.08\n",
      "Параметры модели: Ridge(alpha=4.9, random_state=42) \n",
      "\n"
     ]
    }
   ],
   "source": [
    "model = []\n",
    "predictions_test = []\n",
    "\n",
    "for i in range(len(df)):\n",
    "    rgr = Ridge(random_state=42)\n",
    "    params={\n",
    "        'alpha': np.arange(0.1, 5, 0.1)\n",
    "    }\n",
    "    search_cv = GridSearchCV(rgr, params, scoring='neg_root_mean_squared_error').fit(X_train[i], y_train[i])\n",
    "    predictions_test.append(pd.Series(search_cv.predict(X_test[i]), index=y_test[i].index))\n",
    "    print('Регион', i)\n",
    "    print(f'Cредний запас предсказанного сырья {predictions_test[i].mean():.2f}')\n",
    "    print(f'RMSE модели линейной регрессии на кроссвалидации: {-search_cv.best_score_:.2f}')\n",
    "    print('RMSE модели линейной регрессии на тестовой выборке:', \n",
    "          f'{mean_squared_error(predictions_test[i], y_test[i])**0.5:.2f}')\n",
    "    print('Параметры модели:', search_cv.best_estimator_, '\\n')\n",
    "    model.append(search_cv)\n"
   ]
  },
  {
   "cell_type": "markdown",
   "metadata": {},
   "source": [
    "### Вывод\n",
    "\n",
    "Средние запасы на скважину в регионе 0 и регионе 2 по прогнозу составляют 92,79 тыс.баррелей и 94.87 тыс.баррелей соответственно и существенно больше чем в регионе 1: 69,18 тыс.баррелей. При этом ошибка RMSE у моделей по регионам 0 и 2 значительная 37,85 и 40,08 соответственно, а по региону 2 - незначительная 0,89."
   ]
  },
  {
   "cell_type": "markdown",
   "metadata": {},
   "source": [
    "## Подготовка к расчёту прибыли"
   ]
  },
  {
   "cell_type": "code",
   "execution_count": 7,
   "metadata": {},
   "outputs": [
    {
     "name": "stdout",
     "output_type": "stream",
     "text": [
      "Cреднее количество сырья для безубыточной разработки новой скважины 111.11\n"
     ]
    }
   ],
   "source": [
    "N_TTL = 500                   # общее количесто исследуемых скважин для бутстрепа\n",
    "N = 200                       # количество лучших скважин, отбираемых с помощью ML, для разработки\n",
    "BUDGET = 10_000_000_000       # бюджет на разработку скважин в регионе\n",
    "REVENUE_PER_ITEM = 450_000    # доход с тысячи баррелей, руб\n",
    "budget_per_well = BUDGET/N    # средний бюджет на скважину\n",
    "product_per_well = budget_per_well / REVENUE_PER_ITEM # среднее количество сырья для безубыточно разработки новой скважины\n",
    "\n",
    "print(f'Cреднее количество сырья для безубыточной разработки новой скважины {product_per_well:.2f}')\n"
   ]
  },
  {
   "cell_type": "markdown",
   "metadata": {},
   "source": [
    "### Выводы по подготовке к расчету прибыли\n",
    "\n",
    "Cреднее количество сырья для безубыточной разработки новой скважины 111.11, что больше среднего запаса по скважинам во всех регионах. Таким образом есть риск получения убытков"
   ]
  },
  {
   "cell_type": "markdown",
   "metadata": {},
   "source": [
    "## Расчёт прибыли и рисков "
   ]
  },
  {
   "cell_type": "code",
   "execution_count": 8,
   "metadata": {},
   "outputs": [],
   "source": [
    "# функция для расчета прибыли по выбранным скважинам и предсказаниям модели\n",
    "def revenue(target, predictions, count):\n",
    "    pred_sorted = predictions.sort_values(ascending=False)\n",
    "    selected_wells = target[pred_sorted.index][0:count]\n",
    "    return selected_wells.sum()*REVENUE_PER_ITEM - BUDGET"
   ]
  },
  {
   "cell_type": "code",
   "execution_count": 9,
   "metadata": {
    "scrolled": true
   },
   "outputs": [
    {
     "name": "stdout",
     "output_type": "stream",
     "text": [
      "Регион 0\n",
      "Средняя прибыль, 409491246.69\n",
      "95% доверительный интервал: (-131536028.70 , 944395582.75)\n",
      "Риск получения убытков 0.071\n",
      "\n",
      "Регион 1\n",
      "Средняя прибыль, 536400199.44\n",
      "95% доверительный интервал: (112954247.12 , 998504156.65)\n",
      "Риск получения убытков 0.003\n",
      "\n",
      "Регион 2\n",
      "Средняя прибыль, 339478034.20\n",
      "95% доверительный интервал: (-224089221.74 , 847067587.69)\n",
      "Риск получения убытков 0.118\n",
      "\n"
     ]
    }
   ],
   "source": [
    "state = np.random.RandomState(12345)\n",
    "    \n",
    "revenues = []\n",
    "for i in range(len(df)):\n",
    "    revenues.append([])\n",
    "    for j in range(1000):\n",
    "        target_subsample = y_test[i].sample(n=N_TTL, replace=True, random_state=state)\n",
    "        predictions_subsample = predictions_test[i][target_subsample.index]\n",
    "        revenues[i].append(revenue(target_subsample, predictions_subsample, N))\n",
    "    revenues[i] = pd.Series(revenues[i])\n",
    "    print('Регион', i)\n",
    "    print(f'Средняя прибыль, {revenues[i].mean():.2f}')\n",
    "    q_lower = revenues[i].quantile(0.025)\n",
    "    q_upper = revenues[i].quantile(0.975)\n",
    "    print(f'95% доверительный интервал: ({q_lower:.2f} , {q_upper:.2f})')\n",
    "    risk = revenues[i][revenues[i]<0].count() / len(revenues[i])\n",
    "    print('Риск получения убытков', risk)\n",
    "    print()"
   ]
  },
  {
   "cell_type": "markdown",
   "metadata": {},
   "source": [
    "## Вывод "
   ]
  },
  {
   "cell_type": "markdown",
   "metadata": {},
   "source": [
    "В результате получили следующие данные:\n",
    "\n",
    "Регион 0\n",
    "- Средняя прибыль 409 428 038.62\n",
    "- 95% доверительный интервал: ( -131 536 028.70 , 944 395 582.75 )\n",
    "- Риск получения убытков 0.071\n",
    "\n",
    "Регион 1\n",
    "- Средняя прибыль 536 400 199.44\n",
    "- 95% доверительный интервал: ( 112 954 247.12 , 998 504 156.64 )\n",
    "- Риск получения убытков 0.003\n",
    "\n",
    "Регион 2\n",
    "- Средняя прибыль 339 478 034.20\n",
    "- 95% доверительный интервал: ( -224 089 221.74 , 847 067 587.68 )\n",
    "- Риск получения убытков 0.118\n",
    "\n",
    "**Оптимальным выбором является регион 1 в связи с тем, что в нем наибольшая прибыль, риск убытков минимален, а также с 95% вероятностью прибыль составит от 112,954 млн до 998,504 млн, в отличии от других регионов где в 95% доверительном интервале встречаются и убытки.**"
   ]
  }
 ],
 "metadata": {
  "ExecuteTimeLog": [
   {
    "duration": 1323,
    "start_time": "2023-05-13T07:31:44.760Z"
   },
   {
    "duration": 1669,
    "start_time": "2023-05-13T07:31:47.575Z"
   },
   {
    "duration": 1496,
    "start_time": "2023-05-13T12:18:02.651Z"
   },
   {
    "duration": 2209,
    "start_time": "2023-05-13T12:18:04.149Z"
   },
   {
    "duration": 508,
    "start_time": "2023-05-13T12:45:36.518Z"
   },
   {
    "duration": 509,
    "start_time": "2023-05-13T12:45:48.667Z"
   },
   {
    "duration": 658,
    "start_time": "2023-05-13T12:46:09.026Z"
   },
   {
    "duration": 590,
    "start_time": "2023-05-13T12:47:22.946Z"
   },
   {
    "duration": 582,
    "start_time": "2023-05-13T12:47:43.993Z"
   },
   {
    "duration": 685,
    "start_time": "2023-05-13T12:48:13.248Z"
   },
   {
    "duration": 651,
    "start_time": "2023-05-13T12:48:22.334Z"
   },
   {
    "duration": 635,
    "start_time": "2023-05-13T12:48:43.124Z"
   },
   {
    "duration": 781,
    "start_time": "2023-05-13T12:54:56.959Z"
   },
   {
    "duration": 42,
    "start_time": "2023-05-13T13:00:51.206Z"
   },
   {
    "duration": 63,
    "start_time": "2023-05-13T13:01:31.624Z"
   },
   {
    "duration": 139,
    "start_time": "2023-05-13T13:05:10.160Z"
   },
   {
    "duration": 52,
    "start_time": "2023-05-13T13:06:07.103Z"
   },
   {
    "duration": 157,
    "start_time": "2023-05-13T13:06:25.810Z"
   },
   {
    "duration": 1076,
    "start_time": "2023-05-13T21:02:40.211Z"
   },
   {
    "duration": 1768,
    "start_time": "2023-05-13T21:02:41.289Z"
   },
   {
    "duration": 63,
    "start_time": "2023-05-13T21:02:49.353Z"
   },
   {
    "duration": 605,
    "start_time": "2023-05-13T21:04:12.545Z"
   },
   {
    "duration": 80,
    "start_time": "2023-05-13T21:04:49.064Z"
   },
   {
    "duration": 67,
    "start_time": "2023-05-13T21:04:56.753Z"
   },
   {
    "duration": 64,
    "start_time": "2023-05-13T21:05:01.325Z"
   },
   {
    "duration": 85,
    "start_time": "2023-05-13T21:05:24.758Z"
   },
   {
    "duration": 63,
    "start_time": "2023-05-13T21:05:32.145Z"
   },
   {
    "duration": 55,
    "start_time": "2023-05-13T21:05:35.107Z"
   },
   {
    "duration": 57,
    "start_time": "2023-05-13T21:05:55.217Z"
   },
   {
    "duration": 60,
    "start_time": "2023-05-13T21:21:56.299Z"
   },
   {
    "duration": 80,
    "start_time": "2023-05-13T21:22:37.485Z"
   },
   {
    "duration": 81,
    "start_time": "2023-05-13T21:23:41.265Z"
   },
   {
    "duration": 72,
    "start_time": "2023-05-13T21:23:46.230Z"
   },
   {
    "duration": 101,
    "start_time": "2023-05-13T21:28:25.938Z"
   },
   {
    "duration": 58,
    "start_time": "2023-05-13T21:40:10.040Z"
   },
   {
    "duration": 60,
    "start_time": "2023-05-13T21:44:51.246Z"
   },
   {
    "duration": 64,
    "start_time": "2023-05-13T21:45:09.722Z"
   },
   {
    "duration": 79,
    "start_time": "2023-05-13T21:46:00.997Z"
   },
   {
    "duration": 588,
    "start_time": "2023-05-13T21:47:01.536Z"
   },
   {
    "duration": 79,
    "start_time": "2023-05-13T21:47:49.718Z"
   },
   {
    "duration": 601,
    "start_time": "2023-05-13T21:48:09.546Z"
   },
   {
    "duration": 1047,
    "start_time": "2023-05-13T21:49:08.857Z"
   },
   {
    "duration": 612,
    "start_time": "2023-05-13T21:49:09.906Z"
   },
   {
    "duration": 60,
    "start_time": "2023-05-13T21:49:10.520Z"
   },
   {
    "duration": 102,
    "start_time": "2023-05-13T21:49:10.595Z"
   },
   {
    "duration": 60,
    "start_time": "2023-05-13T21:49:10.698Z"
   },
   {
    "duration": 58,
    "start_time": "2023-05-13T21:50:24.140Z"
   },
   {
    "duration": 54,
    "start_time": "2023-05-14T12:51:53.988Z"
   },
   {
    "duration": 1309,
    "start_time": "2023-05-14T12:52:06.708Z"
   },
   {
    "duration": 1741,
    "start_time": "2023-05-14T12:52:08.019Z"
   },
   {
    "duration": 78,
    "start_time": "2023-05-14T12:52:09.762Z"
   },
   {
    "duration": 109,
    "start_time": "2023-05-14T12:52:09.842Z"
   },
   {
    "duration": 74,
    "start_time": "2023-05-14T12:52:09.953Z"
   },
   {
    "duration": 70,
    "start_time": "2023-05-14T12:52:11.807Z"
   },
   {
    "duration": 14,
    "start_time": "2023-05-14T12:53:52.950Z"
   },
   {
    "duration": 13,
    "start_time": "2023-05-14T12:54:32.430Z"
   },
   {
    "duration": 4,
    "start_time": "2023-05-14T12:54:39.246Z"
   },
   {
    "duration": 668,
    "start_time": "2023-05-14T12:54:39.252Z"
   },
   {
    "duration": 76,
    "start_time": "2023-05-14T12:54:39.921Z"
   },
   {
    "duration": 109,
    "start_time": "2023-05-14T12:54:39.999Z"
   },
   {
    "duration": 70,
    "start_time": "2023-05-14T12:54:40.110Z"
   },
   {
    "duration": 36,
    "start_time": "2023-05-14T12:54:40.198Z"
   },
   {
    "duration": 35,
    "start_time": "2023-05-14T12:54:42.511Z"
   },
   {
    "duration": 42,
    "start_time": "2023-05-14T12:58:45.010Z"
   },
   {
    "duration": 39,
    "start_time": "2023-05-14T13:00:16.645Z"
   },
   {
    "duration": 18,
    "start_time": "2023-05-14T13:00:25.000Z"
   },
   {
    "duration": 31,
    "start_time": "2023-05-14T13:00:37.209Z"
   },
   {
    "duration": 4,
    "start_time": "2023-05-14T13:01:45.899Z"
   },
   {
    "duration": 29,
    "start_time": "2023-05-14T13:01:51.662Z"
   },
   {
    "duration": 277,
    "start_time": "2023-05-14T13:03:02.422Z"
   },
   {
    "duration": 262,
    "start_time": "2023-05-14T13:04:47.749Z"
   },
   {
    "duration": 331,
    "start_time": "2023-05-14T13:09:35.487Z"
   },
   {
    "duration": 81,
    "start_time": "2023-05-14T13:10:17.130Z"
   },
   {
    "duration": 297,
    "start_time": "2023-05-14T13:10:59.002Z"
   },
   {
    "duration": 389,
    "start_time": "2023-05-14T13:13:03.310Z"
   },
   {
    "duration": 249,
    "start_time": "2023-05-14T13:14:25.656Z"
   },
   {
    "duration": 787,
    "start_time": "2023-05-14T13:16:34.999Z"
   },
   {
    "duration": 180,
    "start_time": "2023-05-14T13:16:49.429Z"
   },
   {
    "duration": 250,
    "start_time": "2023-05-14T13:16:58.489Z"
   },
   {
    "duration": 219,
    "start_time": "2023-05-14T13:17:11.582Z"
   },
   {
    "duration": 201,
    "start_time": "2023-05-14T13:17:33.529Z"
   },
   {
    "duration": 374,
    "start_time": "2023-05-14T13:17:47.757Z"
   },
   {
    "duration": 218,
    "start_time": "2023-05-14T13:17:54.490Z"
   },
   {
    "duration": 363,
    "start_time": "2023-05-14T13:18:03.670Z"
   },
   {
    "duration": 247,
    "start_time": "2023-05-14T13:18:11.690Z"
   },
   {
    "duration": 29,
    "start_time": "2023-05-14T13:18:32.884Z"
   },
   {
    "duration": 77,
    "start_time": "2023-05-14T13:18:47.799Z"
   },
   {
    "duration": 102,
    "start_time": "2023-05-14T13:19:09.424Z"
   },
   {
    "duration": 82,
    "start_time": "2023-05-14T13:19:40.157Z"
   },
   {
    "duration": 1280,
    "start_time": "2023-05-14T13:19:52.155Z"
   },
   {
    "duration": 753,
    "start_time": "2023-05-14T13:19:53.437Z"
   },
   {
    "duration": 79,
    "start_time": "2023-05-14T13:19:54.192Z"
   },
   {
    "duration": 162,
    "start_time": "2023-05-14T13:19:54.273Z"
   },
   {
    "duration": 64,
    "start_time": "2023-05-14T13:19:54.438Z"
   },
   {
    "duration": 400,
    "start_time": "2023-05-14T13:19:54.826Z"
   },
   {
    "duration": 316,
    "start_time": "2023-05-14T13:25:28.886Z"
   },
   {
    "duration": 116,
    "start_time": "2023-05-14T13:26:05.289Z"
   },
   {
    "duration": 4,
    "start_time": "2023-05-14T13:52:57.928Z"
   },
   {
    "duration": 5,
    "start_time": "2023-05-14T13:53:32.528Z"
   },
   {
    "duration": 6,
    "start_time": "2023-05-14T13:53:36.897Z"
   },
   {
    "duration": 6,
    "start_time": "2023-05-14T14:11:47.169Z"
   },
   {
    "duration": 77,
    "start_time": "2023-05-14T14:29:50.870Z"
   },
   {
    "duration": 83,
    "start_time": "2023-05-14T14:31:27.614Z"
   },
   {
    "duration": 11,
    "start_time": "2023-05-14T14:42:11.630Z"
   },
   {
    "duration": 8,
    "start_time": "2023-05-14T14:47:10.913Z"
   },
   {
    "duration": 11,
    "start_time": "2023-05-14T14:52:19.247Z"
   },
   {
    "duration": 12,
    "start_time": "2023-05-14T14:52:59.362Z"
   },
   {
    "duration": 10,
    "start_time": "2023-05-14T14:53:11.159Z"
   },
   {
    "duration": 4,
    "start_time": "2023-05-14T15:08:38.625Z"
   },
   {
    "duration": 4,
    "start_time": "2023-05-14T15:08:43.254Z"
   },
   {
    "duration": 13,
    "start_time": "2023-05-14T15:09:45.476Z"
   },
   {
    "duration": 12,
    "start_time": "2023-05-14T15:09:51.003Z"
   },
   {
    "duration": 3,
    "start_time": "2023-05-14T15:09:58.114Z"
   },
   {
    "duration": 257,
    "start_time": "2023-05-14T15:18:39.351Z"
   },
   {
    "duration": 19,
    "start_time": "2023-05-14T15:46:56.896Z"
   },
   {
    "duration": 3,
    "start_time": "2023-05-14T15:47:38.556Z"
   },
   {
    "duration": 3,
    "start_time": "2023-05-14T15:47:49.439Z"
   },
   {
    "duration": 624,
    "start_time": "2023-05-14T15:47:49.444Z"
   },
   {
    "duration": 79,
    "start_time": "2023-05-14T15:47:50.071Z"
   },
   {
    "duration": 116,
    "start_time": "2023-05-14T15:47:50.153Z"
   },
   {
    "duration": 46,
    "start_time": "2023-05-14T15:47:50.272Z"
   },
   {
    "duration": 283,
    "start_time": "2023-05-14T15:47:50.320Z"
   },
   {
    "duration": 97,
    "start_time": "2023-05-14T15:47:50.606Z"
   },
   {
    "duration": 110,
    "start_time": "2023-05-14T15:47:50.705Z"
   },
   {
    "duration": 14,
    "start_time": "2023-05-14T15:47:53.836Z"
   },
   {
    "duration": 3,
    "start_time": "2023-05-14T15:53:51.297Z"
   },
   {
    "duration": 633,
    "start_time": "2023-05-14T15:53:51.303Z"
   },
   {
    "duration": 83,
    "start_time": "2023-05-14T15:53:51.938Z"
   },
   {
    "duration": 106,
    "start_time": "2023-05-14T15:53:52.023Z"
   },
   {
    "duration": 32,
    "start_time": "2023-05-14T15:53:52.132Z"
   },
   {
    "duration": 237,
    "start_time": "2023-05-14T15:53:52.166Z"
   },
   {
    "duration": 92,
    "start_time": "2023-05-14T15:53:52.407Z"
   },
   {
    "duration": 1226,
    "start_time": "2023-05-14T15:54:08.321Z"
   },
   {
    "duration": 632,
    "start_time": "2023-05-14T15:54:09.549Z"
   },
   {
    "duration": 80,
    "start_time": "2023-05-14T15:54:10.182Z"
   },
   {
    "duration": 117,
    "start_time": "2023-05-14T15:54:10.263Z"
   },
   {
    "duration": 58,
    "start_time": "2023-05-14T15:54:10.382Z"
   },
   {
    "duration": 155,
    "start_time": "2023-05-14T15:54:15.053Z"
   },
   {
    "duration": 4,
    "start_time": "2023-05-14T15:54:18.681Z"
   },
   {
    "duration": 3,
    "start_time": "2023-05-14T15:54:26.343Z"
   },
   {
    "duration": 10,
    "start_time": "2023-05-14T15:55:21.802Z"
   },
   {
    "duration": 3,
    "start_time": "2023-05-14T15:55:27.953Z"
   },
   {
    "duration": 111,
    "start_time": "2023-05-14T15:55:32.481Z"
   },
   {
    "duration": 13,
    "start_time": "2023-05-14T15:56:11.522Z"
   },
   {
    "duration": 4367,
    "start_time": "2023-05-14T15:56:25.061Z"
   },
   {
    "duration": 4388,
    "start_time": "2023-05-14T15:57:22.669Z"
   },
   {
    "duration": 4524,
    "start_time": "2023-05-14T16:01:59.000Z"
   },
   {
    "duration": 98,
    "start_time": "2023-05-14T16:12:19.790Z"
   },
   {
    "duration": 83,
    "start_time": "2023-05-14T16:12:48.407Z"
   },
   {
    "duration": 3967,
    "start_time": "2023-05-14T16:13:03.140Z"
   },
   {
    "duration": 88,
    "start_time": "2023-05-14T16:14:03.259Z"
   },
   {
    "duration": 205,
    "start_time": "2023-05-14T16:15:07.011Z"
   },
   {
    "duration": 4791,
    "start_time": "2023-05-14T16:15:56.760Z"
   },
   {
    "duration": 4285,
    "start_time": "2023-05-14T16:16:17.573Z"
   },
   {
    "duration": 4464,
    "start_time": "2023-05-14T16:19:05.522Z"
   },
   {
    "duration": 4414,
    "start_time": "2023-05-14T16:19:44.721Z"
   },
   {
    "duration": 1325,
    "start_time": "2023-05-14T16:41:27.068Z"
   },
   {
    "duration": 712,
    "start_time": "2023-05-14T16:41:28.395Z"
   },
   {
    "duration": 79,
    "start_time": "2023-05-14T16:41:29.112Z"
   },
   {
    "duration": 137,
    "start_time": "2023-05-14T16:41:29.199Z"
   },
   {
    "duration": 76,
    "start_time": "2023-05-14T16:41:29.338Z"
   },
   {
    "duration": 201,
    "start_time": "2023-05-14T16:41:29.416Z"
   },
   {
    "duration": 81,
    "start_time": "2023-05-14T16:41:29.619Z"
   },
   {
    "duration": 9,
    "start_time": "2023-05-14T16:41:29.703Z"
   },
   {
    "duration": 4643,
    "start_time": "2023-05-14T16:41:29.714Z"
   },
   {
    "duration": 55,
    "start_time": "2023-05-14T20:23:25.375Z"
   },
   {
    "duration": 1164,
    "start_time": "2023-05-15T04:20:22.520Z"
   },
   {
    "duration": 1454,
    "start_time": "2023-05-15T04:20:23.686Z"
   },
   {
    "duration": 64,
    "start_time": "2023-05-15T04:20:25.142Z"
   },
   {
    "duration": 112,
    "start_time": "2023-05-15T04:20:25.208Z"
   },
   {
    "duration": 47,
    "start_time": "2023-05-15T04:20:25.322Z"
   },
   {
    "duration": 183,
    "start_time": "2023-05-15T04:20:25.371Z"
   },
   {
    "duration": 4,
    "start_time": "2023-05-15T04:20:25.556Z"
   },
   {
    "duration": 7,
    "start_time": "2023-05-15T04:20:25.650Z"
   },
   {
    "duration": 19,
    "start_time": "2023-05-15T04:20:25.658Z"
   },
   {
    "duration": 3863,
    "start_time": "2023-05-15T04:20:50.181Z"
   },
   {
    "duration": 3755,
    "start_time": "2023-05-15T04:35:58.535Z"
   },
   {
    "duration": 3878,
    "start_time": "2023-05-15T04:37:48.504Z"
   },
   {
    "duration": 1027,
    "start_time": "2023-05-15T04:56:49.955Z"
   },
   {
    "duration": 517,
    "start_time": "2023-05-15T04:56:50.984Z"
   },
   {
    "duration": 66,
    "start_time": "2023-05-15T04:56:51.502Z"
   },
   {
    "duration": 99,
    "start_time": "2023-05-15T04:56:51.570Z"
   },
   {
    "duration": 38,
    "start_time": "2023-05-15T04:56:51.671Z"
   },
   {
    "duration": 147,
    "start_time": "2023-05-15T04:56:51.711Z"
   },
   {
    "duration": 200,
    "start_time": "2023-05-15T04:56:51.860Z"
   },
   {
    "duration": 3,
    "start_time": "2023-05-15T04:56:52.064Z"
   },
   {
    "duration": 4055,
    "start_time": "2023-05-15T04:56:52.069Z"
   }
  ],
  "kernelspec": {
   "display_name": "Python 3 (ipykernel)",
   "language": "python",
   "name": "python3"
  },
  "language_info": {
   "codemirror_mode": {
    "name": "ipython",
    "version": 3
   },
   "file_extension": ".py",
   "mimetype": "text/x-python",
   "name": "python",
   "nbconvert_exporter": "python",
   "pygments_lexer": "ipython3",
   "version": "3.9.5"
  },
  "toc": {
   "base_numbering": 1,
   "nav_menu": {
    "height": "146px",
    "width": "217px"
   },
   "number_sections": true,
   "sideBar": true,
   "skip_h1_title": true,
   "title_cell": "Table of Contents",
   "title_sidebar": "Contents",
   "toc_cell": false,
   "toc_position": {
    "height": "calc(100% - 180px)",
    "left": "10px",
    "top": "150px",
    "width": "371px"
   },
   "toc_section_display": true,
   "toc_window_display": true
  }
 },
 "nbformat": 4,
 "nbformat_minor": 4
}
