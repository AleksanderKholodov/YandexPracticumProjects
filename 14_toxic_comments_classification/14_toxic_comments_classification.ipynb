{
 "cells": [
  {
   "cell_type": "markdown",
   "metadata": {},
   "source": [
    "# Определение токсичности комментариев"
   ]
  },
  {
   "cell_type": "markdown",
   "metadata": {},
   "source": [
    "Интернет-магазин запускает новый сервис. Теперь пользователи могут редактировать и дополнять описания товаров, как в вики-сообществах. То есть клиенты предлагают свои правки и комментируют изменения других. \n",
    "\n",
    "Требуется инструмент, который будет искать токсичные комментарии и отправлять их на модерацию.\n",
    "\n",
    "Комментарии на английском языке.\n",
    "\n",
    "Необходимо обучить модель классифицировать комментарии на позитивные и негативные. \n",
    "\n",
    "Заказчиком предоставлен набор данных с разметкой о токсичности правок.\n",
    "\n",
    "Заказчик предоставли требование о метрике качества F1 не меньше 0.75. "
   ]
  },
  {
   "cell_type": "markdown",
   "metadata": {},
   "source": [
    "## Описание данных\n",
    "\n",
    "Данные находятся в файле `toxic_comments.csv`. \n",
    "\n",
    "* *text*  - содержит текст комментария\n",
    "* *toxic* - целевой признак"
   ]
  },
  {
   "cell_type": "markdown",
   "metadata": {},
   "source": [
    "## План работ"
   ]
  },
  {
   "cell_type": "markdown",
   "metadata": {},
   "source": [
    "0. Импорт библиотек\n",
    "\n",
    "1. Загрузка и подготовка данных данных\n",
    "\n",
    "    1.1. Загрузка данных\n",
    "    \n",
    "    1.2. Исследование данных\n",
    "    \n",
    "    1.3. Дисбаланс классов\n",
    "    \n",
    "    1.4. Очистка и лемматизация\n",
    "    \n",
    "    1.5. Подготовка признаков\n",
    "    \n",
    "2. Обучение моделей\n",
    "\n",
    "3. Тестирование лучшей модели\n",
    "\n",
    "4. Выводы    "
   ]
  },
  {
   "cell_type": "markdown",
   "metadata": {},
   "source": [
    "## 0. Импорт библиотек"
   ]
  },
  {
   "cell_type": "code",
   "execution_count": 1,
   "metadata": {
    "colab": {
     "base_uri": "https://localhost:8080/"
    },
    "id": "hqvbiPN1oVZr",
    "outputId": "a7d6db73-1dde-4fa0-ee16-a1b9e51c6bb9"
   },
   "outputs": [],
   "source": [
    "import pandas as pd\n",
    "import re\n",
    "import nltk\n",
    "import spacy\n",
    "import numpy as np\n",
    "from nltk.corpus import stopwords as nltk_stopwords\n",
    "from sklearn.feature_extraction.text import TfidfVectorizer\n",
    "from sklearn.linear_model import LogisticRegression\n",
    "from sklearn.tree import DecisionTreeClassifier\n",
    "from sklearn.linear_model import SGDClassifier\n",
    "from sklearn.model_selection import RandomizedSearchCV\n",
    "from sklearn.model_selection import train_test_split\n",
    "from sklearn.metrics import f1_score\n",
    "from tqdm.notebook import tqdm\n",
    "from sklearn.pipeline import Pipeline\n",
    "from time import time\n",
    "pd.set_option('max_colwidth', 100)"
   ]
  },
  {
   "cell_type": "markdown",
   "metadata": {
    "id": "IaUOy6LZoVZr"
   },
   "source": [
    "## 1. Загрузка и подготовка данных"
   ]
  },
  {
   "cell_type": "markdown",
   "metadata": {},
   "source": [
    "### 1.1. Загрузка данных"
   ]
  },
  {
   "cell_type": "markdown",
   "metadata": {},
   "source": [
    "Загрузим данные и посмотрим на часть данных"
   ]
  },
  {
   "cell_type": "code",
   "execution_count": 2,
   "metadata": {
    "colab": {
     "base_uri": "https://localhost:8080/",
     "height": 615
    },
    "id": "aUaCoWmEoVZr",
    "outputId": "9964421a-b5e7-4779-869a-867aac54a518",
    "scrolled": true,
    "tags": []
   },
   "outputs": [
    {
     "data": {
      "text/html": [
       "<div>\n",
       "<style scoped>\n",
       "    .dataframe tbody tr th:only-of-type {\n",
       "        vertical-align: middle;\n",
       "    }\n",
       "\n",
       "    .dataframe tbody tr th {\n",
       "        vertical-align: top;\n",
       "    }\n",
       "\n",
       "    .dataframe thead th {\n",
       "        text-align: right;\n",
       "    }\n",
       "</style>\n",
       "<table border=\"1\" class=\"dataframe\">\n",
       "  <thead>\n",
       "    <tr style=\"text-align: right;\">\n",
       "      <th></th>\n",
       "      <th>Unnamed: 0</th>\n",
       "      <th>text</th>\n",
       "      <th>toxic</th>\n",
       "    </tr>\n",
       "  </thead>\n",
       "  <tbody>\n",
       "    <tr>\n",
       "      <th>0</th>\n",
       "      <td>0</td>\n",
       "      <td>Explanation\\nWhy the edits made under my username Hardcore Metallica Fan were reverted? They wer...</td>\n",
       "      <td>0</td>\n",
       "    </tr>\n",
       "    <tr>\n",
       "      <th>1</th>\n",
       "      <td>1</td>\n",
       "      <td>D'aww! He matches this background colour I'm seemingly stuck with. Thanks.  (talk) 21:51, Januar...</td>\n",
       "      <td>0</td>\n",
       "    </tr>\n",
       "    <tr>\n",
       "      <th>2</th>\n",
       "      <td>2</td>\n",
       "      <td>Hey man, I'm really not trying to edit war. It's just that this guy is constantly removing relev...</td>\n",
       "      <td>0</td>\n",
       "    </tr>\n",
       "    <tr>\n",
       "      <th>3</th>\n",
       "      <td>3</td>\n",
       "      <td>\"\\nMore\\nI can't make any real suggestions on improvement - I wondered if the section statistics...</td>\n",
       "      <td>0</td>\n",
       "    </tr>\n",
       "    <tr>\n",
       "      <th>4</th>\n",
       "      <td>4</td>\n",
       "      <td>You, sir, are my hero. Any chance you remember what page that's on?</td>\n",
       "      <td>0</td>\n",
       "    </tr>\n",
       "  </tbody>\n",
       "</table>\n",
       "</div>"
      ],
      "text/plain": [
       "   Unnamed: 0  \\\n",
       "0           0   \n",
       "1           1   \n",
       "2           2   \n",
       "3           3   \n",
       "4           4   \n",
       "\n",
       "                                                                                                  text  \\\n",
       "0  Explanation\\nWhy the edits made under my username Hardcore Metallica Fan were reverted? They wer...   \n",
       "1  D'aww! He matches this background colour I'm seemingly stuck with. Thanks.  (talk) 21:51, Januar...   \n",
       "2  Hey man, I'm really not trying to edit war. It's just that this guy is constantly removing relev...   \n",
       "3  \"\\nMore\\nI can't make any real suggestions on improvement - I wondered if the section statistics...   \n",
       "4                                  You, sir, are my hero. Any chance you remember what page that's on?   \n",
       "\n",
       "   toxic  \n",
       "0      0  \n",
       "1      0  \n",
       "2      0  \n",
       "3      0  \n",
       "4      0  "
      ]
     },
     "execution_count": 2,
     "metadata": {},
     "output_type": "execute_result"
    }
   ],
   "source": [
    "df = pd.read_csv(\"datasets/toxic_comments.csv\")\n",
    "df.head()"
   ]
  },
  {
   "cell_type": "markdown",
   "metadata": {},
   "source": [
    "### 1.2. Исследование данных"
   ]
  },
  {
   "cell_type": "code",
   "execution_count": 3,
   "metadata": {},
   "outputs": [
    {
     "name": "stdout",
     "output_type": "stream",
     "text": [
      "<class 'pandas.core.frame.DataFrame'>\n",
      "RangeIndex: 159292 entries, 0 to 159291\n",
      "Data columns (total 3 columns):\n",
      " #   Column      Non-Null Count   Dtype \n",
      "---  ------      --------------   ----- \n",
      " 0   Unnamed: 0  159292 non-null  int64 \n",
      " 1   text        159292 non-null  object\n",
      " 2   toxic       159292 non-null  int64 \n",
      "dtypes: int64(2), object(1)\n",
      "memory usage: 3.6+ MB\n"
     ]
    }
   ],
   "source": [
    "df.info()"
   ]
  },
  {
   "cell_type": "markdown",
   "metadata": {},
   "source": [
    "Пропусков нет - хорошо.\n",
    "\n",
    "Изменим тип данных toxic для экономии памяти"
   ]
  },
  {
   "cell_type": "code",
   "execution_count": 4,
   "metadata": {},
   "outputs": [
    {
     "name": "stdout",
     "output_type": "stream",
     "text": [
      "<class 'pandas.core.frame.DataFrame'>\n",
      "RangeIndex: 159292 entries, 0 to 159291\n",
      "Data columns (total 3 columns):\n",
      " #   Column      Non-Null Count   Dtype \n",
      "---  ------      --------------   ----- \n",
      " 0   Unnamed: 0  159292 non-null  int64 \n",
      " 1   text        159292 non-null  object\n",
      " 2   toxic       159292 non-null  uint8 \n",
      "dtypes: int64(1), object(1), uint8(1)\n",
      "memory usage: 2.6+ MB\n"
     ]
    }
   ],
   "source": [
    "df.toxic = df.toxic.astype('uint8')\n",
    "df.info()"
   ]
  },
  {
   "cell_type": "markdown",
   "metadata": {},
   "source": [
    "Сократили использование памяти в 1.38 раз - память нам пригодится."
   ]
  },
  {
   "cell_type": "markdown",
   "metadata": {},
   "source": [
    "### 1.3. Дисбаланс классов"
   ]
  },
  {
   "cell_type": "code",
   "execution_count": 5,
   "metadata": {},
   "outputs": [
    {
     "name": "stdout",
     "output_type": "stream",
     "text": [
      "Количество строк с токсичными комментариями: 16186 (10.16%)\n",
      "Количество строк с нетоксичными комментариями: 143106 (89.84%)\n"
     ]
    }
   ],
   "source": [
    "toxic_total = df['toxic'].sum()\n",
    "non_toxic_total = df.shape[0] - toxic_total\n",
    "print(f'Количество строк с токсичными комментариями: {toxic_total} ({toxic_total/df.shape[0]:.2%})')\n",
    "print(f'Количество строк с нетоксичными комментариями: {non_toxic_total} ({non_toxic_total/df.shape[0]:.2%})')"
   ]
  },
  {
   "cell_type": "markdown",
   "metadata": {},
   "source": [
    "Наблюдается существенный дисбаланс классов (1 к 9). Учтем это при построении моделей."
   ]
  },
  {
   "cell_type": "markdown",
   "metadata": {},
   "source": [
    "### 1.4. Очистка и лемматизация"
   ]
  },
  {
   "cell_type": "markdown",
   "metadata": {
    "id": "KQz9Gbn1K_wz"
   },
   "source": [
    "Очистим и лемматизируем текст"
   ]
  },
  {
   "cell_type": "code",
   "execution_count": 6,
   "metadata": {},
   "outputs": [
    {
     "data": {
      "text/html": [
       "<div>\n",
       "<style scoped>\n",
       "    .dataframe tbody tr th:only-of-type {\n",
       "        vertical-align: middle;\n",
       "    }\n",
       "\n",
       "    .dataframe tbody tr th {\n",
       "        vertical-align: top;\n",
       "    }\n",
       "\n",
       "    .dataframe thead th {\n",
       "        text-align: right;\n",
       "    }\n",
       "</style>\n",
       "<table border=\"1\" class=\"dataframe\">\n",
       "  <thead>\n",
       "    <tr style=\"text-align: right;\">\n",
       "      <th></th>\n",
       "      <th>text</th>\n",
       "    </tr>\n",
       "  </thead>\n",
       "  <tbody>\n",
       "    <tr>\n",
       "      <th>109486</th>\n",
       "      <td>Expert Categorizers Why is there no mention of the fact that Nazis were particularly great categ...</td>\n",
       "    </tr>\n",
       "    <tr>\n",
       "      <th>104980</th>\n",
       "      <td>Noise fart talk</td>\n",
       "    </tr>\n",
       "    <tr>\n",
       "      <th>82166</th>\n",
       "      <td>An indefinite block is appropriate even for a minor infraction if you show know signs of discont...</td>\n",
       "    </tr>\n",
       "    <tr>\n",
       "      <th>18721</th>\n",
       "      <td>I don t understand why we have a screenshot of AP s GUI but not UB Can someone remedy this</td>\n",
       "    </tr>\n",
       "    <tr>\n",
       "      <th>128178</th>\n",
       "      <td>Hello Some of the people places or things you have written about in the article Nikolas Tryfonos...</td>\n",
       "    </tr>\n",
       "  </tbody>\n",
       "</table>\n",
       "</div>"
      ],
      "text/plain": [
       "                                                                                                       text\n",
       "109486  Expert Categorizers Why is there no mention of the fact that Nazis were particularly great categ...\n",
       "104980                                                                                      Noise fart talk\n",
       "82166   An indefinite block is appropriate even for a minor infraction if you show know signs of discont...\n",
       "18721            I don t understand why we have a screenshot of AP s GUI but not UB Can someone remedy this\n",
       "128178  Hello Some of the people places or things you have written about in the article Nikolas Tryfonos..."
      ]
     },
     "execution_count": 6,
     "metadata": {},
     "output_type": "execute_result"
    }
   ],
   "source": [
    "# для ускорения работы учебного проекта возьмем часть данных\n",
    "df = df.sample(80000, random_state=12345)\n",
    "\n",
    "# очистим текст от символов, пунктуации, спецсимволов и т.п.\n",
    "def clear_text(text):\n",
    "     return ' '.join(re.sub(r'[^a-zA-Z ]', ' ', text).split())\n",
    "    \n",
    "df['text'] = df['text'].apply(lambda x: clear_text(x))\n",
    "\n",
    "df[['text']].head()"
   ]
  },
  {
   "cell_type": "markdown",
   "metadata": {},
   "source": [
    "Очистка прошла успешно\n",
    "\n",
    "Лемматизируем текст"
   ]
  },
  {
   "cell_type": "code",
   "execution_count": 7,
   "metadata": {
    "colab": {
     "base_uri": "https://localhost:8080/",
     "height": 84,
     "referenced_widgets": [
      "f2520ddfabe04dcf81e12d52c0871b46",
      "17feb668723843df93f565e029384660",
      "d7f34113055f474c96bf5a2394f79594",
      "a609412c6b8a43db89fd18cf31e200e5",
      "1c125ce7f66040189981d2a4101a326f",
      "b85c7bb6e17c4f2091be522975186a95",
      "3c80dfabd5b141babd707a09dbf5ede9",
      "732137c17ce341559bc5c0b3f25729d2",
      "6dbf8509e74544edb149e6654c21e093",
      "3ce15030cf0243d494c1e93416fec655",
      "9dd83a73f65941d7aadb359541415b41"
     ]
    },
    "id": "_jVeqdZQVO2L",
    "outputId": "dc08e9e0-dbb9-49e7-c5d1-f8defd61efe6"
   },
   "outputs": [
    {
     "name": "stdout",
     "output_type": "stream",
     "text": [
      "Wall time: 18min 20s\n"
     ]
    },
    {
     "data": {
      "text/html": [
       "<div>\n",
       "<style scoped>\n",
       "    .dataframe tbody tr th:only-of-type {\n",
       "        vertical-align: middle;\n",
       "    }\n",
       "\n",
       "    .dataframe tbody tr th {\n",
       "        vertical-align: top;\n",
       "    }\n",
       "\n",
       "    .dataframe thead th {\n",
       "        text-align: right;\n",
       "    }\n",
       "</style>\n",
       "<table border=\"1\" class=\"dataframe\">\n",
       "  <thead>\n",
       "    <tr style=\"text-align: right;\">\n",
       "      <th></th>\n",
       "      <th>text</th>\n",
       "    </tr>\n",
       "  </thead>\n",
       "  <tbody>\n",
       "    <tr>\n",
       "      <th>109486</th>\n",
       "      <td>Expert categorizer why be there no mention of the fact that Nazis be particularly great categori...</td>\n",
       "    </tr>\n",
       "    <tr>\n",
       "      <th>104980</th>\n",
       "      <td>noise fart talk</td>\n",
       "    </tr>\n",
       "    <tr>\n",
       "      <th>82166</th>\n",
       "      <td>an indefinite block be appropriate even for a minor infraction if you show know sign of disconti...</td>\n",
       "    </tr>\n",
       "    <tr>\n",
       "      <th>18721</th>\n",
       "      <td>I don t understand why we have a screenshot of AP s GUI but not UB can someone remedy this</td>\n",
       "    </tr>\n",
       "    <tr>\n",
       "      <th>128178</th>\n",
       "      <td>hello some of the people place or thing you have write about in the article Nikolas Tryfonos may...</td>\n",
       "    </tr>\n",
       "  </tbody>\n",
       "</table>\n",
       "</div>"
      ],
      "text/plain": [
       "                                                                                                       text\n",
       "109486  Expert categorizer why be there no mention of the fact that Nazis be particularly great categori...\n",
       "104980                                                                                      noise fart talk\n",
       "82166   an indefinite block be appropriate even for a minor infraction if you show know sign of disconti...\n",
       "18721            I don t understand why we have a screenshot of AP s GUI but not UB can someone remedy this\n",
       "128178  hello some of the people place or thing you have write about in the article Nikolas Tryfonos may..."
      ]
     },
     "execution_count": 7,
     "metadata": {},
     "output_type": "execute_result"
    }
   ],
   "source": [
    "%%time\n",
    "\n",
    "# Initialize spacy 'en_core_web_sm' model, keeping only tagger component needed for lemmatization\n",
    "nlp = spacy.load('en_core_web_sm', disable=['parser', 'ner'])\n",
    "\n",
    "lemm_texts = []\n",
    "nlp_pipe = nlp.pipe(df['text'].values, disable = ['ner', 'parser'])\n",
    "\n",
    "for doc in nlp_pipe:\n",
    "    lemm_text = \" \".join([token.lemma_ for token in doc])\n",
    "    lemm_texts.append(lemm_text)\n",
    "\n",
    "df['text'] = lemm_texts\n",
    "df[['text']].head()"
   ]
  },
  {
   "cell_type": "markdown",
   "metadata": {},
   "source": [
    "Лемматизация прошла успешно"
   ]
  },
  {
   "cell_type": "markdown",
   "metadata": {
    "id": "E3O_kmlQoVZv"
   },
   "source": [
    "## 1.5. Подготовка признаков"
   ]
  },
  {
   "cell_type": "code",
   "execution_count": 8,
   "metadata": {
    "id": "FZCmkTSxJoHX"
   },
   "outputs": [
    {
     "name": "stdout",
     "output_type": "stream",
     "text": [
      "X_train.shape (72000,)\n",
      "y_train.shape (72000,)\n",
      "X_test.shape (8000,)\n",
      "y_test.shape (8000,)\n"
     ]
    }
   ],
   "source": [
    "X = df['text'].values\n",
    "y = df['toxic']\n",
    "X_train, X_test, y_train, y_test = train_test_split(X, y, test_size=0.1, stratify=y)\n",
    "\n",
    "print(\"X_train.shape\", X_train.shape)\n",
    "print(\"y_train.shape\", y_train.shape)\n",
    "print(\"X_test.shape\", X_test.shape)\n",
    "print(\"y_test.shape\", y_test.shape)"
   ]
  },
  {
   "cell_type": "code",
   "execution_count": 9,
   "metadata": {},
   "outputs": [
    {
     "name": "stderr",
     "output_type": "stream",
     "text": [
      "[nltk_data] Downloading package stopwords to\n",
      "[nltk_data]     C:\\Users\\Lenovo\\AppData\\Roaming\\nltk_data...\n",
      "[nltk_data]   Package stopwords is already up-to-date!\n"
     ]
    }
   ],
   "source": [
    "nltk.download('stopwords')\n",
    "stopwords = nltk_stopwords.words('english')"
   ]
  },
  {
   "cell_type": "markdown",
   "metadata": {},
   "source": [
    "## 2. Обучение"
   ]
  },
  {
   "cell_type": "code",
   "execution_count": 10,
   "metadata": {
    "id": "NNHuA2xOmJCI"
   },
   "outputs": [],
   "source": [
    "#dictionary pipelines of classifiers and vectorizers for SearchCV\n",
    "pipelines = {}\n",
    "\n",
    "pipelines['LogisticRegression'] = Pipeline(\n",
    "    [\n",
    "        (\"vect\", TfidfVectorizer(stop_words=stopwords)),\n",
    "        (\"clf\", LogisticRegression()),\n",
    "    ]\n",
    ")\n",
    "\n",
    "pipelines['DecisionTreeClassifier'] = Pipeline(\n",
    "    [\n",
    "        (\"vect\", TfidfVectorizer(stop_words=stopwords)),\n",
    "        (\"clf\", DecisionTreeClassifier())\n",
    "    ]\n",
    ")\n",
    "\n",
    "pipelines['SGDClassifier'] = Pipeline(\n",
    "    [\n",
    "        (\"vect\", TfidfVectorizer(stop_words=stopwords)),\n",
    "        (\"clf\", SGDClassifier())\n",
    "    ]\n",
    ")\n",
    "\n",
    "#dictionary of parameters of classifiers and vectorizers for SearchCV\n",
    "params = {}\n",
    "params['LogisticRegression']={\n",
    "    \"vect__max_df\": (0.2, 0.4, 0.6, 0.8, 1.0),\n",
    "    \"vect__min_df\": (1, 3, 5, 10),\n",
    "    \"vect__ngram_range\": ((1, 1), (1, 2)),  # unigrams or bigrams\n",
    "    \"vect__norm\": (\"l1\", \"l2\"),\n",
    "    'clf__max_iter' : [5000],\n",
    "    'clf__random_state' : [12345],\n",
    "    'clf__class_weight' : ['balanced'],\n",
    "    'clf__C' : list(np.arange(1.0, 16.0, 0.5)),\n",
    "}\n",
    "\n",
    "params['DecisionTreeClassifier']={\n",
    "    \"vect__max_df\": (0.2, 0.4, 0.6, 0.8, 1.0),\n",
    "    \"vect__min_df\": (1, 3, 5, 10),\n",
    "    \"vect__norm\": (\"l1\", \"l2\"),\n",
    "    'clf__random_state' : [12345],\n",
    "    'clf__class_weight' : ['balanced'],\n",
    "    'clf__max_depth': list(range(6, 13, 2)),\n",
    "    'clf__min_samples_split' :  list(range(2, 13, 2)),\n",
    "    'clf__min_samples_leaf' : list(range(1, 13, 2)),\n",
    "}\n",
    "\n",
    "params['SGDClassifier']={\n",
    "    \"vect__max_df\": (0.2, 0.4, 0.6, 0.8, 1.0),\n",
    "    \"vect__min_df\": (1, 3, 5, 10),\n",
    "    \"vect__norm\": (\"l1\", \"l2\"),\n",
    "    'clf__loss': ['hinge'],\n",
    "    'clf__penalty': ['l2'],\n",
    "    'clf__alpha': np.logspace(-6, 6, 13),\n",
    "    'clf__max_iter': [5],\n",
    "    'clf__class_weight' : ['balanced'],\n",
    "    'clf__tol': [None],\n",
    "    'clf__random_state' : [12345],\n",
    "}\n",
    "\n",
    "# dictionary for saving results\n",
    "results = dict()\n"
   ]
  },
  {
   "cell_type": "code",
   "execution_count": 11,
   "metadata": {
    "colab": {
     "base_uri": "https://localhost:8080/"
    },
    "id": "jnWRO-ztl0ax",
    "outputId": "f84d3cad-4c02-4b89-d8ac-63418094256a"
   },
   "outputs": [
    {
     "name": "stdout",
     "output_type": "stream",
     "text": [
      "Fitting 3 folds for each of 40 candidates, totalling 120 fits\n",
      "LogisticRegression\n",
      "train f1: 0.7732490510712992\n",
      "best_params_: {'vect__norm': 'l2', 'vect__ngram_range': (1, 2), 'vect__min_df': 1, 'vect__max_df': 0.6, 'clf__random_state': 12345, 'clf__max_iter': 5000, 'clf__class_weight': 'balanced', 'clf__C': 15.5}\n",
      "mean_fit_time: 86.59038472175598\n",
      "_______________\n",
      "\n",
      "Fitting 3 folds for each of 40 candidates, totalling 120 fits\n",
      "DecisionTreeClassifier\n",
      "train f1: 0.5863740419922725\n",
      "best_params_: {'vect__norm': 'l2', 'vect__min_df': 3, 'vect__max_df': 0.2, 'clf__random_state': 12345, 'clf__min_samples_split': 10, 'clf__min_samples_leaf': 1, 'clf__max_depth': 12, 'clf__class_weight': 'balanced'}\n",
      "mean_fit_time: 51.451926390329994\n",
      "_______________\n",
      "\n",
      "Fitting 3 folds for each of 40 candidates, totalling 120 fits\n",
      "SGDClassifier\n",
      "train f1: 0.7292202526014622\n",
      "best_params_: {'vect__norm': 'l2', 'vect__min_df': 3, 'vect__max_df': 1.0, 'clf__tol': None, 'clf__random_state': 12345, 'clf__penalty': 'l2', 'clf__max_iter': 5, 'clf__loss': 'hinge', 'clf__class_weight': 'balanced', 'clf__alpha': 0.0001}\n",
      "mean_fit_time: 6.3065831661224365\n",
      "_______________\n",
      "\n",
      "Wall time: 1h 23min 14s\n"
     ]
    }
   ],
   "source": [
    "%%time\n",
    "\n",
    "for i in pipelines.keys():\n",
    "    rs = RandomizedSearchCV(\n",
    "        estimator=pipelines[i],\n",
    "        param_distributions=params[i],\n",
    "        n_iter=40,\n",
    "        random_state=12345,\n",
    "        n_jobs=2,\n",
    "        verbose=1,\n",
    "        scoring='f1',\n",
    "        cv=3\n",
    "    )\n",
    "\n",
    "    rs.fit(X_train, y_train)\n",
    "\n",
    "    #saving results\n",
    "    results[i] = dict()\n",
    "    results[i]['train f1'] = rs.best_score_\n",
    "    results[i]['best_params_'] = rs.best_params_\n",
    "    results[i]['best_estimator_'] = rs.best_estimator_\n",
    "    results[i]['mean_fit_time'] = rs.cv_results_['mean_fit_time'][rs.best_index_]\n",
    "\n",
    "\n",
    "    # printing results\n",
    "    print(i)\n",
    "    print('train f1:', results[i]['train f1'])\n",
    "    print('best_params_:', results[i]['best_params_'])\n",
    "    print('mean_fit_time:', results[i]['mean_fit_time'])\n",
    "    print('_______________')\n",
    "    print()"
   ]
  },
  {
   "cell_type": "markdown",
   "metadata": {
    "id": "rDCrgKKFbzpd"
   },
   "source": [
    "**Лучшая модель: LogisticRegression**\n",
    "\n",
    "c параметрами:\n",
    "TfidfVectorizer (norm='l2', ngram_range=(1, 2), min_df=1, max_df=0.6)\n",
    "\n",
    "LogisticRegression(random_state=12345, max_iter=5000, class_weight='balanced', C=15.5}\n",
    "\n",
    "train f1: 0.7732490510712992"
   ]
  },
  {
   "cell_type": "markdown",
   "metadata": {},
   "source": [
    "## 3. Тестирование лучшей модели"
   ]
  },
  {
   "cell_type": "code",
   "execution_count": 12,
   "metadata": {
    "colab": {
     "base_uri": "https://localhost:8080/"
    },
    "id": "K7OoR7-bJoHh",
    "outputId": "22ec60e9-6214-440d-fcb6-3785a5809682",
    "scrolled": true
   },
   "outputs": [
    {
     "name": "stdout",
     "output_type": "stream",
     "text": [
      "LogisticRegression\n",
      "train f1: 0.7732490510712992\n",
      "test f1: 0.7936507936507937\n"
     ]
    }
   ],
   "source": [
    "i = 'LogisticRegression'\n",
    "results[i]['test f1'] = f1_score(y_test, results[i]['best_estimator_'].predict(X_test))\n",
    "print(i)\n",
    "print('train f1:', results[i]['train f1'])\n",
    "print('test f1:', results[i]['test f1'])\n"
   ]
  },
  {
   "cell_type": "markdown",
   "metadata": {
    "id": "TsiCLrKooVZv"
   },
   "source": [
    "## 4. Выводы"
   ]
  },
  {
   "cell_type": "markdown",
   "metadata": {
    "id": "5mpWDLvbLMTa"
   },
   "source": [
    "Текст очищен и лемматизирован.\n",
    "\n",
    "Имеется дисбаланс классов (токсичных комментариев околло 10%).\n",
    "\n",
    "проведен подбор гиперпараметров векторизации и нескольких моделей в пайплайне:\n",
    "- LogisticRegression\n",
    "- DecisionTreeClassifier\n",
    "- SGDClassifier\n",
    "\n",
    "Выбрана лучшая модель: **LogisticRegression**\n",
    "\n",
    "c параметрами:\n",
    "TfidfVectorizer (norm='l2', ngram_range=(1, 2), min_df=1, max_df=0.6)\n",
    "\n",
    "LogisticRegression(random_state=12345, max_iter=5000, class_weight='balanced', C=15.5)\n",
    "\n",
    "train f1:  0.7732\n",
    "\n",
    "test f1 = 0.7937"
   ]
  }
 ],
 "metadata": {
  "ExecuteTimeLog": [
   {
    "duration": 1315,
    "start_time": "2023-07-23T17:52:28.593Z"
   },
   {
    "duration": 2254,
    "start_time": "2023-07-23T17:54:15.203Z"
   },
   {
    "duration": 3,
    "start_time": "2023-07-23T17:58:12.295Z"
   },
   {
    "duration": 124,
    "start_time": "2023-07-23T18:00:19.086Z"
   },
   {
    "duration": 4,
    "start_time": "2023-07-23T18:00:37.277Z"
   },
   {
    "duration": 14,
    "start_time": "2023-07-23T18:00:41.894Z"
   },
   {
    "duration": 161854,
    "start_time": "2023-07-23T18:05:04.148Z"
   },
   {
    "duration": 7,
    "start_time": "2023-07-23T18:12:36.111Z"
   },
   {
    "duration": 1366,
    "start_time": "2023-07-23T18:49:48.144Z"
   },
   {
    "duration": 826,
    "start_time": "2023-07-23T18:49:55.808Z"
   },
   {
    "duration": 111,
    "start_time": "2023-07-23T18:50:57.136Z"
   },
   {
    "duration": 3,
    "start_time": "2023-07-23T18:51:01.881Z"
   },
   {
    "duration": 1045,
    "start_time": "2023-07-23T18:51:03.524Z"
   },
   {
    "duration": 3,
    "start_time": "2023-07-23T18:51:25.136Z"
   },
   {
    "duration": 5,
    "start_time": "2023-07-23T18:51:26.954Z"
   },
   {
    "duration": 5,
    "start_time": "2023-07-23T18:54:35.330Z"
   },
   {
    "duration": 5,
    "start_time": "2023-07-23T18:56:44.240Z"
   },
   {
    "duration": 4,
    "start_time": "2023-07-23T18:57:44.763Z"
   },
   {
    "duration": 28,
    "start_time": "2023-07-23T18:57:58.375Z"
   },
   {
    "duration": 3,
    "start_time": "2023-07-23T18:58:04.929Z"
   },
   {
    "duration": 20,
    "start_time": "2023-07-23T18:58:07.025Z"
   },
   {
    "duration": 1534,
    "start_time": "2023-07-23T18:58:34.605Z"
   },
   {
    "duration": 835,
    "start_time": "2023-07-23T18:58:40.179Z"
   },
   {
    "duration": 5,
    "start_time": "2023-07-23T18:58:42.721Z"
   },
   {
    "duration": 138,
    "start_time": "2023-07-23T18:58:50.764Z"
   },
   {
    "duration": 30,
    "start_time": "2023-07-23T18:58:58.051Z"
   },
   {
    "duration": 312,
    "start_time": "2023-07-23T19:00:03.628Z"
   },
   {
    "duration": 1254,
    "start_time": "2023-07-23T19:00:11.017Z"
   },
   {
    "duration": 5,
    "start_time": "2023-07-23T19:00:30.826Z"
   },
   {
    "duration": 474057,
    "start_time": "2023-07-23T19:00:57.213Z"
   },
   {
    "duration": 1386,
    "start_time": "2023-07-23T19:09:28.740Z"
   },
   {
    "duration": 869,
    "start_time": "2023-07-23T19:09:30.128Z"
   },
   {
    "duration": 6,
    "start_time": "2023-07-23T19:09:30.998Z"
   },
   {
    "duration": 4636,
    "start_time": "2023-07-23T19:09:32.135Z"
   },
   {
    "duration": 126,
    "start_time": "2023-07-23T19:11:07.517Z"
   },
   {
    "duration": 3266,
    "start_time": "2023-07-23T19:11:23.273Z"
   },
   {
    "duration": 747,
    "start_time": "2023-07-23T19:12:33.732Z"
   },
   {
    "duration": 4,
    "start_time": "2023-07-23T19:13:04.654Z"
   },
   {
    "duration": 200,
    "start_time": "2023-07-23T19:13:11.653Z"
   },
   {
    "duration": 3,
    "start_time": "2023-07-23T19:13:17.808Z"
   },
   {
    "duration": 55,
    "start_time": "2023-07-23T19:13:58.417Z"
   },
   {
    "duration": 6762,
    "start_time": "2023-07-23T19:14:39.964Z"
   },
   {
    "duration": 6689,
    "start_time": "2023-07-23T19:15:09.719Z"
   },
   {
    "duration": 102847,
    "start_time": "2023-07-23T19:15:50.482Z"
   },
   {
    "duration": 4664,
    "start_time": "2023-07-23T19:23:11.717Z"
   },
   {
    "duration": 4922,
    "start_time": "2023-07-23T19:25:15.734Z"
   },
   {
    "duration": 5,
    "start_time": "2023-07-23T19:26:13.130Z"
   },
   {
    "duration": 1519,
    "start_time": "2023-07-23T19:30:42.936Z"
   },
   {
    "duration": 863,
    "start_time": "2023-07-23T19:30:44.456Z"
   },
   {
    "duration": 6,
    "start_time": "2023-07-23T19:30:45.321Z"
   },
   {
    "duration": 151,
    "start_time": "2023-07-23T19:30:45.328Z"
   },
   {
    "duration": 1689,
    "start_time": "2023-07-23T19:30:57.224Z"
   },
   {
    "duration": 1501,
    "start_time": "2023-07-23T19:31:12.411Z"
   },
   {
    "duration": 1849,
    "start_time": "2023-07-23T19:31:30.625Z"
   },
   {
    "duration": 1423,
    "start_time": "2023-07-23T19:31:50.667Z"
   },
   {
    "duration": 863,
    "start_time": "2023-07-23T19:31:52.091Z"
   },
   {
    "duration": 5,
    "start_time": "2023-07-23T19:31:52.955Z"
   },
   {
    "duration": 8225,
    "start_time": "2023-07-23T19:31:52.961Z"
   },
   {
    "duration": 10,
    "start_time": "2023-07-23T19:32:13.571Z"
   },
   {
    "duration": 5,
    "start_time": "2023-07-23T19:32:52.016Z"
   },
   {
    "duration": 787,
    "start_time": "2023-07-23T19:32:52.022Z"
   },
   {
    "duration": 7,
    "start_time": "2023-07-23T19:32:52.812Z"
   },
   {
    "duration": 44,
    "start_time": "2023-07-23T19:32:52.820Z"
   },
   {
    "duration": 7082,
    "start_time": "2023-07-23T19:32:52.866Z"
   },
   {
    "duration": 11,
    "start_time": "2023-07-23T19:32:59.950Z"
   },
   {
    "duration": 123,
    "start_time": "2023-07-23T19:45:38.230Z"
   },
   {
    "duration": 6,
    "start_time": "2023-07-23T19:46:26.611Z"
   },
   {
    "duration": 510,
    "start_time": "2023-07-23T19:46:31.545Z"
   },
   {
    "duration": 5,
    "start_time": "2023-07-23T19:47:34.235Z"
   },
   {
    "duration": 733,
    "start_time": "2023-07-23T19:47:34.242Z"
   },
   {
    "duration": 4,
    "start_time": "2023-07-23T19:47:34.977Z"
   },
   {
    "duration": 6476,
    "start_time": "2023-07-23T19:47:34.982Z"
   },
   {
    "duration": 468,
    "start_time": "2023-07-23T19:47:43.934Z"
   },
   {
    "duration": 448,
    "start_time": "2023-07-23T19:48:07.510Z"
   },
   {
    "duration": 460,
    "start_time": "2023-07-23T19:49:47.503Z"
   },
   {
    "duration": 467,
    "start_time": "2023-07-23T19:50:30.391Z"
   },
   {
    "duration": 453,
    "start_time": "2023-07-23T19:51:03.440Z"
   },
   {
    "duration": 3,
    "start_time": "2023-07-23T19:51:36.374Z"
   },
   {
    "duration": 481,
    "start_time": "2023-07-23T19:54:31.306Z"
   },
   {
    "duration": 4,
    "start_time": "2023-07-23T19:55:19.477Z"
   },
   {
    "duration": 5,
    "start_time": "2023-07-23T19:55:30.675Z"
   },
   {
    "duration": 2165,
    "start_time": "2023-07-23T19:55:53.606Z"
   },
   {
    "duration": 449,
    "start_time": "2023-07-23T19:57:40.412Z"
   },
   {
    "duration": 5,
    "start_time": "2023-07-23T19:57:53.911Z"
   },
   {
    "duration": 454,
    "start_time": "2023-07-23T19:57:59.411Z"
   },
   {
    "duration": 465,
    "start_time": "2023-07-23T19:58:12.562Z"
   },
   {
    "duration": 1451,
    "start_time": "2023-07-23T20:03:29.022Z"
   },
   {
    "duration": 883,
    "start_time": "2023-07-23T20:03:30.476Z"
   },
   {
    "duration": 4,
    "start_time": "2023-07-23T20:03:31.360Z"
   },
   {
    "duration": 68751,
    "start_time": "2023-07-23T20:03:31.366Z"
   },
   {
    "duration": 34485,
    "start_time": "2023-07-23T20:04:40.119Z"
   },
   {
    "duration": 4,
    "start_time": "2023-07-23T20:07:14.870Z"
   },
   {
    "duration": 6,
    "start_time": "2023-07-23T20:16:07.247Z"
   },
   {
    "duration": 866,
    "start_time": "2023-07-23T20:16:07.254Z"
   },
   {
    "duration": 6,
    "start_time": "2023-07-23T20:16:08.122Z"
   },
   {
    "duration": 7093,
    "start_time": "2023-07-23T20:16:08.130Z"
   },
   {
    "duration": 8162,
    "start_time": "2023-07-23T20:16:15.225Z"
   },
   {
    "duration": 4,
    "start_time": "2023-07-23T20:16:23.388Z"
   },
   {
    "duration": 5,
    "start_time": "2023-07-23T20:16:43.219Z"
   },
   {
    "duration": 759,
    "start_time": "2023-07-23T20:16:43.225Z"
   },
   {
    "duration": 10,
    "start_time": "2023-07-23T20:16:43.986Z"
   },
   {
    "duration": 6542,
    "start_time": "2023-07-23T20:16:43.999Z"
   },
   {
    "duration": 12693,
    "start_time": "2023-07-23T20:16:50.544Z"
   },
   {
    "duration": 4,
    "start_time": "2023-07-23T20:17:03.238Z"
   },
   {
    "duration": 5,
    "start_time": "2023-07-23T20:17:16.713Z"
   },
   {
    "duration": 714,
    "start_time": "2023-07-23T20:17:16.720Z"
   },
   {
    "duration": 4,
    "start_time": "2023-07-23T20:17:17.435Z"
   },
   {
    "duration": 6650,
    "start_time": "2023-07-23T20:17:17.441Z"
   },
   {
    "duration": 13404,
    "start_time": "2023-07-23T20:17:24.099Z"
   },
   {
    "duration": 4,
    "start_time": "2023-07-23T20:17:37.505Z"
   },
   {
    "duration": 6,
    "start_time": "2023-07-23T20:17:56.125Z"
   },
   {
    "duration": 740,
    "start_time": "2023-07-23T20:17:56.133Z"
   },
   {
    "duration": 4,
    "start_time": "2023-07-23T20:17:56.875Z"
   },
   {
    "duration": 7146,
    "start_time": "2023-07-23T20:17:56.881Z"
   },
   {
    "duration": 474,
    "start_time": "2023-07-23T20:18:04.030Z"
   },
   {
    "duration": 4,
    "start_time": "2023-07-23T20:18:04.505Z"
   },
   {
    "duration": 5,
    "start_time": "2023-07-23T20:19:08.333Z"
   },
   {
    "duration": 725,
    "start_time": "2023-07-23T20:19:08.340Z"
   },
   {
    "duration": 4,
    "start_time": "2023-07-23T20:19:09.066Z"
   },
   {
    "duration": 6217,
    "start_time": "2023-07-23T20:19:09.071Z"
   },
   {
    "duration": 86,
    "start_time": "2023-07-23T20:19:15.290Z"
   },
   {
    "duration": 4,
    "start_time": "2023-07-23T20:19:15.378Z"
   },
   {
    "duration": 133,
    "start_time": "2023-07-23T20:19:15.384Z"
   },
   {
    "duration": 12,
    "start_time": "2023-07-23T20:19:29.623Z"
   },
   {
    "duration": 499,
    "start_time": "2023-07-23T20:19:39.739Z"
   },
   {
    "duration": 385,
    "start_time": "2023-07-23T20:20:20.831Z"
   },
   {
    "duration": 422,
    "start_time": "2023-07-23T20:20:36.068Z"
   },
   {
    "duration": 5,
    "start_time": "2023-07-23T20:21:31.561Z"
   },
   {
    "duration": 5,
    "start_time": "2023-07-23T20:22:09.151Z"
   },
   {
    "duration": 834,
    "start_time": "2023-07-23T20:22:09.158Z"
   },
   {
    "duration": 12,
    "start_time": "2023-07-23T20:22:09.994Z"
   },
   {
    "duration": 7179,
    "start_time": "2023-07-23T20:22:10.009Z"
   },
   {
    "duration": 75,
    "start_time": "2023-07-23T20:22:17.191Z"
   },
   {
    "duration": 3,
    "start_time": "2023-07-23T20:22:17.267Z"
   },
   {
    "duration": 462,
    "start_time": "2023-07-23T20:22:17.272Z"
   },
   {
    "duration": 1487,
    "start_time": "2023-07-23T20:24:39.398Z"
   },
   {
    "duration": 976,
    "start_time": "2023-07-23T20:24:40.887Z"
   },
   {
    "duration": 6,
    "start_time": "2023-07-23T20:24:41.864Z"
   },
   {
    "duration": 74322,
    "start_time": "2023-07-23T20:24:41.871Z"
   },
   {
    "duration": 899,
    "start_time": "2023-07-23T20:25:56.196Z"
   },
   {
    "duration": 168,
    "start_time": "2023-07-23T20:25:57.096Z"
   },
   {
    "duration": 0,
    "start_time": "2023-07-23T20:25:57.269Z"
   },
   {
    "duration": 0,
    "start_time": "2023-07-23T20:25:57.270Z"
   },
   {
    "duration": 8,
    "start_time": "2023-07-23T20:26:23.267Z"
   },
   {
    "duration": 33107,
    "start_time": "2023-07-23T20:26:31.938Z"
   },
   {
    "duration": 18,
    "start_time": "2023-07-23T20:27:05.102Z"
   },
   {
    "duration": 8,
    "start_time": "2023-07-23T20:27:12.994Z"
   },
   {
    "duration": 6,
    "start_time": "2023-07-23T20:29:09.235Z"
   },
   {
    "duration": 848,
    "start_time": "2023-07-23T20:29:09.242Z"
   },
   {
    "duration": 21,
    "start_time": "2023-07-23T20:29:10.091Z"
   },
   {
    "duration": 73929,
    "start_time": "2023-07-23T20:29:10.115Z"
   },
   {
    "duration": 1424,
    "start_time": "2023-07-23T20:30:24.046Z"
   },
   {
    "duration": 74334,
    "start_time": "2023-07-23T20:30:25.471Z"
   },
   {
    "duration": 20,
    "start_time": "2023-07-23T20:31:39.809Z"
   },
   {
    "duration": 2436,
    "start_time": "2023-07-24T13:22:48.281Z"
   },
   {
    "duration": 2595,
    "start_time": "2023-07-24T13:22:50.719Z"
   },
   {
    "duration": 5,
    "start_time": "2023-07-24T13:22:53.315Z"
   },
   {
    "duration": 70850,
    "start_time": "2023-07-24T13:22:53.321Z"
   },
   {
    "duration": 853,
    "start_time": "2023-07-24T13:24:04.173Z"
   },
   {
    "duration": 57906,
    "start_time": "2023-07-24T13:24:05.028Z"
   },
   {
    "duration": 10,
    "start_time": "2023-07-24T13:25:02.936Z"
   },
   {
    "duration": 305,
    "start_time": "2023-07-24T13:44:57.757Z"
   },
   {
    "duration": 6172,
    "start_time": "2023-07-24T13:49:43.545Z"
   },
   {
    "duration": 450,
    "start_time": "2023-07-24T13:49:53.735Z"
   },
   {
    "duration": 2631,
    "start_time": "2023-07-24T13:53:38.429Z"
   },
   {
    "duration": 6,
    "start_time": "2023-07-24T13:53:41.063Z"
   },
   {
    "duration": 826,
    "start_time": "2023-07-24T13:53:41.071Z"
   },
   {
    "duration": 5,
    "start_time": "2023-07-24T13:53:41.898Z"
   },
   {
    "duration": 73011,
    "start_time": "2023-07-24T13:53:41.904Z"
   },
   {
    "duration": 923,
    "start_time": "2023-07-24T13:54:54.917Z"
   },
   {
    "duration": 41,
    "start_time": "2023-07-24T13:55:53.350Z"
   },
   {
    "duration": 48025,
    "start_time": "2023-07-24T13:56:03.822Z"
   },
   {
    "duration": 22,
    "start_time": "2023-07-24T13:56:59.329Z"
   },
   {
    "duration": 15,
    "start_time": "2023-07-24T14:00:51.771Z"
   },
   {
    "duration": 19,
    "start_time": "2023-07-24T14:01:53.642Z"
   },
   {
    "duration": 1517,
    "start_time": "2023-07-24T14:25:20.360Z"
   },
   {
    "duration": 881,
    "start_time": "2023-07-24T14:25:21.879Z"
   },
   {
    "duration": 5,
    "start_time": "2023-07-24T14:25:22.761Z"
   },
   {
    "duration": 73380,
    "start_time": "2023-07-24T14:25:22.768Z"
   },
   {
    "duration": 813,
    "start_time": "2023-07-24T14:26:36.150Z"
   },
   {
    "duration": 136965,
    "start_time": "2023-07-24T14:26:36.964Z"
   },
   {
    "duration": 1078,
    "start_time": "2023-07-24T14:28:53.932Z"
   },
   {
    "duration": 0,
    "start_time": "2023-07-24T14:28:55.012Z"
   },
   {
    "duration": 916,
    "start_time": "2023-07-24T14:30:37.081Z"
   },
   {
    "duration": 1926,
    "start_time": "2023-07-24T14:30:50.781Z"
   },
   {
    "duration": 38659,
    "start_time": "2023-07-24T14:31:52.117Z"
   },
   {
    "duration": 422,
    "start_time": "2023-07-24T14:32:30.778Z"
   },
   {
    "duration": 53,
    "start_time": "2023-07-24T14:32:31.201Z"
   },
   {
    "duration": 1617,
    "start_time": "2023-07-24T14:33:27.385Z"
   },
   {
    "duration": 968,
    "start_time": "2023-07-24T14:33:29.004Z"
   },
   {
    "duration": 5,
    "start_time": "2023-07-24T14:33:29.974Z"
   },
   {
    "duration": 28646,
    "start_time": "2023-07-24T14:33:29.981Z"
   },
   {
    "duration": 0,
    "start_time": "2023-07-24T14:33:58.629Z"
   },
   {
    "duration": 0,
    "start_time": "2023-07-24T14:33:58.630Z"
   },
   {
    "duration": 0,
    "start_time": "2023-07-24T14:33:58.632Z"
   },
   {
    "duration": 0,
    "start_time": "2023-07-24T14:33:58.633Z"
   },
   {
    "duration": 1546,
    "start_time": "2023-07-24T14:34:27.355Z"
   },
   {
    "duration": 928,
    "start_time": "2023-07-24T14:34:28.904Z"
   },
   {
    "duration": 7,
    "start_time": "2023-07-24T14:34:29.834Z"
   },
   {
    "duration": 1125769,
    "start_time": "2023-07-24T14:34:29.842Z"
   },
   {
    "duration": 1578,
    "start_time": "2023-07-24T15:09:06.831Z"
   },
   {
    "duration": 2435,
    "start_time": "2023-07-24T15:09:08.411Z"
   },
   {
    "duration": 4,
    "start_time": "2023-07-24T15:09:10.848Z"
   },
   {
    "duration": 13,
    "start_time": "2023-07-24T15:09:10.854Z"
   },
   {
    "duration": 0,
    "start_time": "2023-07-24T15:09:10.869Z"
   },
   {
    "duration": 0,
    "start_time": "2023-07-24T15:09:10.870Z"
   },
   {
    "duration": 0,
    "start_time": "2023-07-24T15:09:10.871Z"
   },
   {
    "duration": 0,
    "start_time": "2023-07-24T15:09:10.872Z"
   },
   {
    "duration": 1471,
    "start_time": "2023-07-24T15:10:00.157Z"
   },
   {
    "duration": 934,
    "start_time": "2023-07-24T15:10:01.630Z"
   },
   {
    "duration": 5,
    "start_time": "2023-07-24T15:10:02.565Z"
   },
   {
    "duration": 8448,
    "start_time": "2023-07-24T15:10:02.571Z"
   },
   {
    "duration": 1520,
    "start_time": "2023-07-24T15:10:31.762Z"
   },
   {
    "duration": 2448,
    "start_time": "2023-07-24T15:10:33.284Z"
   },
   {
    "duration": 5,
    "start_time": "2023-07-24T15:10:35.734Z"
   },
   {
    "duration": 16613,
    "start_time": "2023-07-24T15:10:35.743Z"
   },
   {
    "duration": 1595,
    "start_time": "2023-07-24T15:11:18.645Z"
   },
   {
    "duration": 2429,
    "start_time": "2023-07-24T15:11:20.242Z"
   },
   {
    "duration": 5,
    "start_time": "2023-07-24T15:11:22.672Z"
   },
   {
    "duration": 280376,
    "start_time": "2023-07-24T15:11:22.679Z"
   },
   {
    "duration": 1869,
    "start_time": "2023-07-24T15:18:56.558Z"
   },
   {
    "duration": 2800,
    "start_time": "2023-07-24T15:18:58.428Z"
   },
   {
    "duration": 5,
    "start_time": "2023-07-24T15:19:01.230Z"
   },
   {
    "duration": 494080,
    "start_time": "2023-07-24T15:19:01.242Z"
   },
   {
    "duration": 1649,
    "start_time": "2023-07-24T15:27:29.254Z"
   },
   {
    "duration": 2914,
    "start_time": "2023-07-24T15:27:30.905Z"
   },
   {
    "duration": 4,
    "start_time": "2023-07-24T15:27:33.821Z"
   },
   {
    "duration": 1040642,
    "start_time": "2023-07-24T15:27:33.827Z"
   },
   {
    "duration": 1623,
    "start_time": "2023-07-24T15:45:32.270Z"
   },
   {
    "duration": 2922,
    "start_time": "2023-07-24T15:45:33.895Z"
   },
   {
    "duration": 5,
    "start_time": "2023-07-24T15:45:36.818Z"
   },
   {
    "duration": 124366,
    "start_time": "2023-07-24T15:45:36.824Z"
   },
   {
    "duration": 1636,
    "start_time": "2023-07-24T15:48:41.326Z"
   },
   {
    "duration": 2920,
    "start_time": "2023-07-24T15:48:42.964Z"
   },
   {
    "duration": 5,
    "start_time": "2023-07-24T15:48:45.886Z"
   },
   {
    "duration": 179391,
    "start_time": "2023-07-24T15:48:45.892Z"
   },
   {
    "duration": 1774,
    "start_time": "2023-07-24T15:52:39.466Z"
   },
   {
    "duration": 2937,
    "start_time": "2023-07-24T15:52:41.242Z"
   },
   {
    "duration": 4,
    "start_time": "2023-07-24T15:52:44.181Z"
   },
   {
    "duration": 193174,
    "start_time": "2023-07-24T15:52:44.186Z"
   },
   {
    "duration": 1801,
    "start_time": "2023-07-24T15:56:23.826Z"
   },
   {
    "duration": 2992,
    "start_time": "2023-07-24T15:56:25.629Z"
   },
   {
    "duration": 4,
    "start_time": "2023-07-24T15:56:28.623Z"
   },
   {
    "duration": 903627,
    "start_time": "2023-07-24T15:56:28.629Z"
   },
   {
    "duration": 1648,
    "start_time": "2023-07-24T16:28:56.067Z"
   },
   {
    "duration": 2909,
    "start_time": "2023-07-24T16:28:57.717Z"
   },
   {
    "duration": 11,
    "start_time": "2023-07-24T16:29:00.627Z"
   },
   {
    "duration": 1217626,
    "start_time": "2023-07-24T16:29:00.643Z"
   },
   {
    "duration": 1979,
    "start_time": "2023-07-24T16:56:49.794Z"
   },
   {
    "duration": 3580,
    "start_time": "2023-07-24T16:56:51.777Z"
   },
   {
    "duration": 46009,
    "start_time": "2023-07-24T16:56:55.365Z"
   },
   {
    "duration": 607,
    "start_time": "2023-07-24T16:57:41.376Z"
   },
   {
    "duration": 867345,
    "start_time": "2023-07-24T16:57:41.992Z"
   },
   {
    "duration": 22396,
    "start_time": "2023-07-24T17:28:51.519Z"
   },
   {
    "duration": 506,
    "start_time": "2023-07-24T17:29:13.922Z"
   },
   {
    "duration": 6053,
    "start_time": "2023-07-24T17:29:14.430Z"
   },
   {
    "duration": 161,
    "start_time": "2023-07-24T17:29:20.489Z"
   },
   {
    "duration": 852,
    "start_time": "2023-07-24T17:29:20.658Z"
   },
   {
    "duration": 856828,
    "start_time": "2023-07-24T17:29:21.518Z"
   },
   {
    "duration": 1094,
    "start_time": "2023-07-24T17:43:38.352Z"
   },
   {
    "duration": 0,
    "start_time": "2023-07-24T17:43:39.451Z"
   },
   {
    "duration": 0,
    "start_time": "2023-07-24T17:43:39.452Z"
   },
   {
    "duration": 0,
    "start_time": "2023-07-24T17:43:39.453Z"
   },
   {
    "duration": 23301,
    "start_time": "2023-07-24T17:47:00.980Z"
   },
   {
    "duration": 1330,
    "start_time": "2023-07-24T17:47:24.289Z"
   },
   {
    "duration": 1358,
    "start_time": "2023-07-24T17:47:25.621Z"
   },
   {
    "duration": 128,
    "start_time": "2023-07-24T17:47:26.990Z"
   },
   {
    "duration": 664,
    "start_time": "2023-07-24T17:47:27.120Z"
   },
   {
    "duration": 1028794,
    "start_time": "2023-07-24T17:47:27.786Z"
   },
   {
    "duration": 9361,
    "start_time": "2023-07-24T18:04:36.586Z"
   },
   {
    "duration": 115928,
    "start_time": "2023-07-24T18:14:44.357Z"
   },
   {
    "duration": 6614,
    "start_time": "2023-07-24T18:16:40.296Z"
   },
   {
    "duration": 1648,
    "start_time": "2023-07-24T18:16:46.919Z"
   },
   {
    "duration": 5,
    "start_time": "2023-07-24T18:16:48.572Z"
   },
   {
    "duration": 1589,
    "start_time": "2023-07-24T18:16:48.582Z"
   },
   {
    "duration": 879368,
    "start_time": "2023-07-24T18:16:50.175Z"
   },
   {
    "duration": 38624,
    "start_time": "2023-07-24T18:32:44.666Z"
   },
   {
    "duration": 2115,
    "start_time": "2023-07-24T18:33:23.292Z"
   },
   {
    "duration": 4543,
    "start_time": "2023-07-24T18:33:25.409Z"
   },
   {
    "duration": 2,
    "start_time": "2023-07-24T18:33:29.954Z"
   },
   {
    "duration": 1145,
    "start_time": "2023-07-24T18:33:29.958Z"
   },
   {
    "duration": 87950,
    "start_time": "2023-07-24T18:33:31.105Z"
   },
   {
    "duration": 1203,
    "start_time": "2023-07-24T18:34:59.057Z"
   },
   {
    "duration": 24213,
    "start_time": "2023-07-24T18:40:09.810Z"
   },
   {
    "duration": 962,
    "start_time": "2023-07-24T18:40:34.028Z"
   },
   {
    "duration": 1507,
    "start_time": "2023-07-24T18:40:34.992Z"
   },
   {
    "duration": 10,
    "start_time": "2023-07-24T18:40:36.502Z"
   },
   {
    "duration": 1055,
    "start_time": "2023-07-24T18:40:36.516Z"
   },
   {
    "duration": 18374,
    "start_time": "2023-07-24T18:40:47.076Z"
   },
   {
    "duration": 916,
    "start_time": "2023-07-24T18:41:05.455Z"
   },
   {
    "duration": 1393,
    "start_time": "2023-07-24T18:41:06.380Z"
   },
   {
    "duration": 4,
    "start_time": "2023-07-24T18:41:07.775Z"
   },
   {
    "duration": 891,
    "start_time": "2023-07-24T18:41:07.782Z"
   }
  ],
  "colab": {
   "provenance": [],
   "toc_visible": true
  },
  "kernelspec": {
   "display_name": "Python 3 (ipykernel)",
   "language": "python",
   "name": "python3"
  },
  "language_info": {
   "codemirror_mode": {
    "name": "ipython",
    "version": 3
   },
   "file_extension": ".py",
   "mimetype": "text/x-python",
   "name": "python",
   "nbconvert_exporter": "python",
   "pygments_lexer": "ipython3",
   "version": "3.9.5"
  },
  "toc": {
   "base_numbering": 1,
   "nav_menu": {},
   "number_sections": true,
   "sideBar": true,
   "skip_h1_title": true,
   "title_cell": "Содержание",
   "title_sidebar": "Contents",
   "toc_cell": true,
   "toc_position": {
    "height": "calc(100% - 180px)",
    "left": "10px",
    "top": "150px",
    "width": "302.391px"
   },
   "toc_section_display": true,
   "toc_window_display": false
  },
  "widgets": {
   "application/vnd.jupyter.widget-state+json": {
    "17feb668723843df93f565e029384660": {
     "model_module": "@jupyter-widgets/controls",
     "model_module_version": "1.5.0",
     "model_name": "HTMLModel",
     "state": {
      "_dom_classes": [],
      "_model_module": "@jupyter-widgets/controls",
      "_model_module_version": "1.5.0",
      "_model_name": "HTMLModel",
      "_view_count": null,
      "_view_module": "@jupyter-widgets/controls",
      "_view_module_version": "1.5.0",
      "_view_name": "HTMLView",
      "description": "",
      "description_tooltip": null,
      "layout": "IPY_MODEL_b85c7bb6e17c4f2091be522975186a95",
      "placeholder": "​",
      "style": "IPY_MODEL_3c80dfabd5b141babd707a09dbf5ede9",
      "value": "100%"
     }
    },
    "1c125ce7f66040189981d2a4101a326f": {
     "model_module": "@jupyter-widgets/base",
     "model_module_version": "1.2.0",
     "model_name": "LayoutModel",
     "state": {
      "_model_module": "@jupyter-widgets/base",
      "_model_module_version": "1.2.0",
      "_model_name": "LayoutModel",
      "_view_count": null,
      "_view_module": "@jupyter-widgets/base",
      "_view_module_version": "1.2.0",
      "_view_name": "LayoutView",
      "align_content": null,
      "align_items": null,
      "align_self": null,
      "border": null,
      "bottom": null,
      "display": null,
      "flex": null,
      "flex_flow": null,
      "grid_area": null,
      "grid_auto_columns": null,
      "grid_auto_flow": null,
      "grid_auto_rows": null,
      "grid_column": null,
      "grid_gap": null,
      "grid_row": null,
      "grid_template_areas": null,
      "grid_template_columns": null,
      "grid_template_rows": null,
      "height": null,
      "justify_content": null,
      "justify_items": null,
      "left": null,
      "margin": null,
      "max_height": null,
      "max_width": null,
      "min_height": null,
      "min_width": null,
      "object_fit": null,
      "object_position": null,
      "order": null,
      "overflow": null,
      "overflow_x": null,
      "overflow_y": null,
      "padding": null,
      "right": null,
      "top": null,
      "visibility": null,
      "width": null
     }
    },
    "3c80dfabd5b141babd707a09dbf5ede9": {
     "model_module": "@jupyter-widgets/controls",
     "model_module_version": "1.5.0",
     "model_name": "DescriptionStyleModel",
     "state": {
      "_model_module": "@jupyter-widgets/controls",
      "_model_module_version": "1.5.0",
      "_model_name": "DescriptionStyleModel",
      "_view_count": null,
      "_view_module": "@jupyter-widgets/base",
      "_view_module_version": "1.2.0",
      "_view_name": "StyleView",
      "description_width": ""
     }
    },
    "3ce15030cf0243d494c1e93416fec655": {
     "model_module": "@jupyter-widgets/base",
     "model_module_version": "1.2.0",
     "model_name": "LayoutModel",
     "state": {
      "_model_module": "@jupyter-widgets/base",
      "_model_module_version": "1.2.0",
      "_model_name": "LayoutModel",
      "_view_count": null,
      "_view_module": "@jupyter-widgets/base",
      "_view_module_version": "1.2.0",
      "_view_name": "LayoutView",
      "align_content": null,
      "align_items": null,
      "align_self": null,
      "border": null,
      "bottom": null,
      "display": null,
      "flex": null,
      "flex_flow": null,
      "grid_area": null,
      "grid_auto_columns": null,
      "grid_auto_flow": null,
      "grid_auto_rows": null,
      "grid_column": null,
      "grid_gap": null,
      "grid_row": null,
      "grid_template_areas": null,
      "grid_template_columns": null,
      "grid_template_rows": null,
      "height": null,
      "justify_content": null,
      "justify_items": null,
      "left": null,
      "margin": null,
      "max_height": null,
      "max_width": null,
      "min_height": null,
      "min_width": null,
      "object_fit": null,
      "object_position": null,
      "order": null,
      "overflow": null,
      "overflow_x": null,
      "overflow_y": null,
      "padding": null,
      "right": null,
      "top": null,
      "visibility": null,
      "width": null
     }
    },
    "6dbf8509e74544edb149e6654c21e093": {
     "model_module": "@jupyter-widgets/controls",
     "model_module_version": "1.5.0",
     "model_name": "ProgressStyleModel",
     "state": {
      "_model_module": "@jupyter-widgets/controls",
      "_model_module_version": "1.5.0",
      "_model_name": "ProgressStyleModel",
      "_view_count": null,
      "_view_module": "@jupyter-widgets/base",
      "_view_module_version": "1.2.0",
      "_view_name": "StyleView",
      "bar_color": null,
      "description_width": ""
     }
    },
    "732137c17ce341559bc5c0b3f25729d2": {
     "model_module": "@jupyter-widgets/base",
     "model_module_version": "1.2.0",
     "model_name": "LayoutModel",
     "state": {
      "_model_module": "@jupyter-widgets/base",
      "_model_module_version": "1.2.0",
      "_model_name": "LayoutModel",
      "_view_count": null,
      "_view_module": "@jupyter-widgets/base",
      "_view_module_version": "1.2.0",
      "_view_name": "LayoutView",
      "align_content": null,
      "align_items": null,
      "align_self": null,
      "border": null,
      "bottom": null,
      "display": null,
      "flex": null,
      "flex_flow": null,
      "grid_area": null,
      "grid_auto_columns": null,
      "grid_auto_flow": null,
      "grid_auto_rows": null,
      "grid_column": null,
      "grid_gap": null,
      "grid_row": null,
      "grid_template_areas": null,
      "grid_template_columns": null,
      "grid_template_rows": null,
      "height": null,
      "justify_content": null,
      "justify_items": null,
      "left": null,
      "margin": null,
      "max_height": null,
      "max_width": null,
      "min_height": null,
      "min_width": null,
      "object_fit": null,
      "object_position": null,
      "order": null,
      "overflow": null,
      "overflow_x": null,
      "overflow_y": null,
      "padding": null,
      "right": null,
      "top": null,
      "visibility": null,
      "width": null
     }
    },
    "9dd83a73f65941d7aadb359541415b41": {
     "model_module": "@jupyter-widgets/controls",
     "model_module_version": "1.5.0",
     "model_name": "DescriptionStyleModel",
     "state": {
      "_model_module": "@jupyter-widgets/controls",
      "_model_module_version": "1.5.0",
      "_model_name": "DescriptionStyleModel",
      "_view_count": null,
      "_view_module": "@jupyter-widgets/base",
      "_view_module_version": "1.2.0",
      "_view_name": "StyleView",
      "description_width": ""
     }
    },
    "a609412c6b8a43db89fd18cf31e200e5": {
     "model_module": "@jupyter-widgets/controls",
     "model_module_version": "1.5.0",
     "model_name": "HTMLModel",
     "state": {
      "_dom_classes": [],
      "_model_module": "@jupyter-widgets/controls",
      "_model_module_version": "1.5.0",
      "_model_name": "HTMLModel",
      "_view_count": null,
      "_view_module": "@jupyter-widgets/controls",
      "_view_module_version": "1.5.0",
      "_view_name": "HTMLView",
      "description": "",
      "description_tooltip": null,
      "layout": "IPY_MODEL_3ce15030cf0243d494c1e93416fec655",
      "placeholder": "​",
      "style": "IPY_MODEL_9dd83a73f65941d7aadb359541415b41",
      "value": " 80000/80000 [07:05&lt;00:00, 331.08it/s]"
     }
    },
    "b85c7bb6e17c4f2091be522975186a95": {
     "model_module": "@jupyter-widgets/base",
     "model_module_version": "1.2.0",
     "model_name": "LayoutModel",
     "state": {
      "_model_module": "@jupyter-widgets/base",
      "_model_module_version": "1.2.0",
      "_model_name": "LayoutModel",
      "_view_count": null,
      "_view_module": "@jupyter-widgets/base",
      "_view_module_version": "1.2.0",
      "_view_name": "LayoutView",
      "align_content": null,
      "align_items": null,
      "align_self": null,
      "border": null,
      "bottom": null,
      "display": null,
      "flex": null,
      "flex_flow": null,
      "grid_area": null,
      "grid_auto_columns": null,
      "grid_auto_flow": null,
      "grid_auto_rows": null,
      "grid_column": null,
      "grid_gap": null,
      "grid_row": null,
      "grid_template_areas": null,
      "grid_template_columns": null,
      "grid_template_rows": null,
      "height": null,
      "justify_content": null,
      "justify_items": null,
      "left": null,
      "margin": null,
      "max_height": null,
      "max_width": null,
      "min_height": null,
      "min_width": null,
      "object_fit": null,
      "object_position": null,
      "order": null,
      "overflow": null,
      "overflow_x": null,
      "overflow_y": null,
      "padding": null,
      "right": null,
      "top": null,
      "visibility": null,
      "width": null
     }
    },
    "d7f34113055f474c96bf5a2394f79594": {
     "model_module": "@jupyter-widgets/controls",
     "model_module_version": "1.5.0",
     "model_name": "FloatProgressModel",
     "state": {
      "_dom_classes": [],
      "_model_module": "@jupyter-widgets/controls",
      "_model_module_version": "1.5.0",
      "_model_name": "FloatProgressModel",
      "_view_count": null,
      "_view_module": "@jupyter-widgets/controls",
      "_view_module_version": "1.5.0",
      "_view_name": "ProgressView",
      "bar_style": "success",
      "description": "",
      "description_tooltip": null,
      "layout": "IPY_MODEL_732137c17ce341559bc5c0b3f25729d2",
      "max": 80000,
      "min": 0,
      "orientation": "horizontal",
      "style": "IPY_MODEL_6dbf8509e74544edb149e6654c21e093",
      "value": 80000
     }
    },
    "f2520ddfabe04dcf81e12d52c0871b46": {
     "model_module": "@jupyter-widgets/controls",
     "model_module_version": "1.5.0",
     "model_name": "HBoxModel",
     "state": {
      "_dom_classes": [],
      "_model_module": "@jupyter-widgets/controls",
      "_model_module_version": "1.5.0",
      "_model_name": "HBoxModel",
      "_view_count": null,
      "_view_module": "@jupyter-widgets/controls",
      "_view_module_version": "1.5.0",
      "_view_name": "HBoxView",
      "box_style": "",
      "children": [
       "IPY_MODEL_17feb668723843df93f565e029384660",
       "IPY_MODEL_d7f34113055f474c96bf5a2394f79594",
       "IPY_MODEL_a609412c6b8a43db89fd18cf31e200e5"
      ],
      "layout": "IPY_MODEL_1c125ce7f66040189981d2a4101a326f"
     }
    }
   }
  }
 },
 "nbformat": 4,
 "nbformat_minor": 4
}
